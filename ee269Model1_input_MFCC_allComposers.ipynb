{
 "cells": [
  {
   "cell_type": "code",
   "execution_count": 1,
   "metadata": {},
   "outputs": [
    {
     "data": {
      "text/plain": [
       "'/device:GPU:0'"
      ]
     },
     "execution_count": 1,
     "metadata": {},
     "output_type": "execute_result"
    }
   ],
   "source": [
    "import tensorflow as tf\n",
    "tf.test.gpu_device_name()"
   ]
  },
  {
   "cell_type": "code",
   "execution_count": 16,
   "metadata": {},
   "outputs": [],
   "source": [
    "#import necessary libraries\n",
    "import numpy as np\n",
    "from keras.models import Sequential\n",
    "from keras.layers import Dense, Dropout, Activation, Flatten\n",
    "from keras.layers import Convolution2D, MaxPooling2D\n",
    "from keras.optimizers import SGD\n",
    "\n",
    "from keras.utils import np_utils\n",
    "from sklearn import metrics \n",
    "import glob\n",
    "import os\n",
    "from keras.utils import multi_gpu_model\n",
    "import matplotlib.pyplot as plt\n",
    "\n",
    "\n"
   ]
  },
  {
   "cell_type": "code",
   "execution_count": 3,
   "metadata": {},
   "outputs": [],
   "source": [
    "def one_hot_encode(labels):\n",
    "    n_labels = len(labels)\n",
    "    n_unique_labels = len(np.unique(labels))\n",
    "    one_hot_encode = np.zeros((n_labels,n_unique_labels))\n",
    "    one_hot_encode[np.arange(n_labels), labels] = 1\n",
    "    return one_hot_encode"
   ]
  },
  {
   "cell_type": "code",
   "execution_count": 4,
   "metadata": {},
   "outputs": [],
   "source": [
    "label1 = np.load('LabelFile1_20s.npz')\n",
    "label2 = np.load('LabelFile2_20s.npz')\n",
    "label3 = np.load('LabelFile3_20s.npz')\n",
    "\n",
    "np.shape(label2['arr_0'])\n",
    "\n",
    "allLabels = np.concatenate((label1['arr_0'],label2['arr_0'],label3['arr_0']),axis=0)\n",
    "\n",
    "\n",
    "np.unique(allLabels)\n",
    "dict = {'Bach':0, 'Beethoven':4, 'Brahms':1, 'Cambini':5, 'Dvorak':6, 'Faure':7, 'Haydn':8, 'Mozart': 2, 'Ravel': 9, 'Schubert': 3}\n",
    "allLabelsNum = list(map(dict.get, allLabels))\n",
    "# labels = allLabelsNum\n",
    "labels = one_hot_encode(allLabelsNum)"
   ]
  },
  {
   "cell_type": "code",
   "execution_count": 5,
   "metadata": {},
   "outputs": [
    {
     "data": {
      "text/plain": [
       "3507"
      ]
     },
     "execution_count": 5,
     "metadata": {},
     "output_type": "execute_result"
    }
   ],
   "source": [
    "np.shape(allLabels)\n",
    "indices = [i for i, x in enumerate(allLabelsNum) if (x == 4 or x == 5 or x == 6 or x==7 or x==8 or x==9)]\n",
    "len(indices)"
   ]
  },
  {
   "cell_type": "code",
   "execution_count": 10,
   "metadata": {},
   "outputs": [
    {
     "name": "stdout",
     "output_type": "stream",
     "text": [
      "3507\n",
      "(2145,) (5652,)\n"
     ]
    }
   ],
   "source": [
    "labelsNumCut = np.delete(allLabelsNum,indices,axis = 0)\n",
    "len(np.unique(labelsNumCut))\n",
    "labels = one_hot_encode(labelsNumCut)\n",
    "print(len(indices))\n",
    "print(np.shape(labelsNumCut),np.shape(allLabelsNum))\n"
   ]
  },
  {
   "cell_type": "code",
   "execution_count": 8,
   "metadata": {},
   "outputs": [
    {
     "data": {
      "text/plain": [
       "4"
      ]
     },
     "execution_count": 8,
     "metadata": {},
     "output_type": "execute_result"
    }
   ],
   "source": []
  },
  {
   "cell_type": "code",
   "execution_count": 82,
   "metadata": {},
   "outputs": [],
   "source": [
    "uniqueLabels = np.unique(labelsNumCut)\n",
    "uniqueLabels = ['Bach', 'Brahms', 'Mozart','Schubert']"
   ]
  },
  {
   "cell_type": "code",
   "execution_count": 12,
   "metadata": {},
   "outputs": [],
   "source": [
    "file1 = np.load('featuresFile1_20s.npz')\n",
    "file2 = np.load('featuresFile2_20s.npz')\n",
    "file3 = np.load('featuresFile3_20s.npz')\n"
   ]
  },
  {
   "cell_type": "code",
   "execution_count": 13,
   "metadata": {},
   "outputs": [],
   "source": [
    "features = np.concatenate((file1['arr_0'], file2['arr_0'],file3['arr_0']),axis=0)\n",
    "# features = np.squeeze(features)"
   ]
  },
  {
   "cell_type": "code",
   "execution_count": 15,
   "metadata": {},
   "outputs": [
    {
     "name": "stdout",
     "output_type": "stream",
     "text": [
      "(5652, 60, 1722, 1) (2145, 60, 1722, 1)\n"
     ]
    }
   ],
   "source": [
    "np.shape(features)\n",
    "features_cut = np.delete(features,indices,axis = 0)\n",
    "print(np.shape(features),np.shape(features_cut))"
   ]
  },
  {
   "cell_type": "code",
   "execution_count": 89,
   "metadata": {},
   "outputs": [],
   "source": [
    "np.savez('miniset',features=features_cut,labels = labelsNumCut)"
   ]
  },
  {
   "cell_type": "code",
   "execution_count": 17,
   "metadata": {},
   "outputs": [],
   "source": [
    "from sklearn.model_selection import train_test_split\n",
    "import sklearn\n",
    "import sklearn.linear_model\n",
    "from sklearn.model_selection import train_test_split\n",
    "X_train, X_temp, y_train, y_temp = train_test_split(features_cut, labels, test_size=0.3, random_state=0)\n",
    "X_val, X_test, y_val, y_test = train_test_split(X_temp, y_temp, test_size=0.5, random_state=0)\n"
   ]
  },
  {
   "cell_type": "code",
   "execution_count": 18,
   "metadata": {},
   "outputs": [
    {
     "data": {
      "text/plain": [
       "(322, 60, 1722, 1)"
      ]
     },
     "execution_count": 18,
     "metadata": {},
     "output_type": "execute_result"
    }
   ],
   "source": [
    "np.shape(X_val)"
   ]
  },
  {
   "cell_type": "code",
   "execution_count": 67,
   "metadata": {},
   "outputs": [],
   "source": [
    "frames = 1722\n",
    "bands = 60\n",
    "\n",
    "feature_size = 60*1722 #60x41\n",
    "num_labels = 4\n",
    "num_channels = 1\n",
    "\n",
    "batch_size = 32\n",
    "kernel_size = 30\n",
    "depth = 20\n",
    "num_hidden = 200\n",
    "nb_epoch = 100\n",
    "\n",
    "learning_rate = 0.001\n",
    "training_iterations = 2000"
   ]
  },
  {
   "cell_type": "code",
   "execution_count": 69,
   "metadata": {},
   "outputs": [],
   "source": [
    "from keras.models import Sequential\n",
    "from keras.layers import Dense, Activation, Dropout, Flatten,BatchNormalization\n",
    "from keras.layers import Conv2D\n",
    "from keras.layers import MaxPooling2D\n",
    "\n",
    "input_shape=(bands, frames,1)\n",
    "\n",
    "\n",
    "# model.add(Conv2D(32, 3, 3, input_shape=(3, 150, 150)))\n",
    "\n",
    "\n",
    "model = Sequential()\n",
    "\n",
    "model.add(Conv2D(24, (3,3), input_shape = input_shape, padding = 'same'))\n",
    "model.add(MaxPooling2D(pool_size=(4,2)))\n",
    "# model.add(BatchNormalization())\n",
    "model.add(Activation('relu'))\n",
    "\n",
    "model.add(Conv2D(48, (3,3), input_shape = input_shape, padding = 'same'))\n",
    "model.add(MaxPooling2D(pool_size=(4,2)))\n",
    "# model.add(BatchNormalization())\n",
    "model.add(Activation('relu'))\n",
    "\n",
    "model.add(Conv2D(48, (3,3), input_shape = input_shape, padding = 'valid'))\n",
    "model.add(Activation('relu'))\n",
    "\n",
    "model.add(Flatten())\n",
    "\n",
    "model.add(Dense(64))\n",
    "model.add(Activation('relu'))\n",
    "model.add(Dropout(0.1))\n",
    "\n",
    "\n",
    "model.add(Dense(10))\n",
    "model.add(Dropout(.2))\n",
    "model.add(Dense(num_labels, activation='softmax'))\n",
    "\n",
    "# model.compile(loss='categorical_crossentropy', metrics=['categorical_accuracy'], optimizer='adam')"
   ]
  },
  {
   "cell_type": "code",
   "execution_count": 70,
   "metadata": {},
   "outputs": [],
   "source": [
    "# create a SGD optimiser\n",
    "sgd = SGD(lr=0.0001, momentum=0.0, decay=0.0, nesterov=False)"
   ]
  },
  {
   "cell_type": "code",
   "execution_count": 71,
   "metadata": {},
   "outputs": [],
   "source": [
    "parallel_model = multi_gpu_model(model, gpus=4)\n",
    "parallel_model.compile(loss='categorical_crossentropy', metrics=['accuracy'], optimizer=sgd)\n"
   ]
  },
  {
   "cell_type": "code",
   "execution_count": 72,
   "metadata": {},
   "outputs": [
    {
     "name": "stdout",
     "output_type": "stream",
     "text": [
      "_________________________________________________________________\n",
      "Layer (type)                 Output Shape              Param #   \n",
      "=================================================================\n",
      "conv2d_31 (Conv2D)           (None, 60, 1722, 24)      240       \n",
      "_________________________________________________________________\n",
      "max_pooling2d_21 (MaxPooling (None, 15, 861, 24)       0         \n",
      "_________________________________________________________________\n",
      "activation_41 (Activation)   (None, 15, 861, 24)       0         \n",
      "_________________________________________________________________\n",
      "conv2d_32 (Conv2D)           (None, 15, 861, 48)       10416     \n",
      "_________________________________________________________________\n",
      "max_pooling2d_22 (MaxPooling (None, 3, 430, 48)        0         \n",
      "_________________________________________________________________\n",
      "activation_42 (Activation)   (None, 3, 430, 48)        0         \n",
      "_________________________________________________________________\n",
      "conv2d_33 (Conv2D)           (None, 1, 428, 48)        20784     \n",
      "_________________________________________________________________\n",
      "activation_43 (Activation)   (None, 1, 428, 48)        0         \n",
      "_________________________________________________________________\n",
      "flatten_11 (Flatten)         (None, 20544)             0         \n",
      "_________________________________________________________________\n",
      "dense_30 (Dense)             (None, 64)                1314880   \n",
      "_________________________________________________________________\n",
      "activation_44 (Activation)   (None, 64)                0         \n",
      "_________________________________________________________________\n",
      "dropout_7 (Dropout)          (None, 64)                0         \n",
      "_________________________________________________________________\n",
      "dense_31 (Dense)             (None, 10)                650       \n",
      "_________________________________________________________________\n",
      "dropout_8 (Dropout)          (None, 10)                0         \n",
      "_________________________________________________________________\n",
      "dense_32 (Dense)             (None, 4)                 44        \n",
      "=================================================================\n",
      "Total params: 1,347,014\n",
      "Trainable params: 1,347,014\n",
      "Non-trainable params: 0\n",
      "_________________________________________________________________\n"
     ]
    }
   ],
   "source": [
    "model.summary()"
   ]
  },
  {
   "cell_type": "code",
   "execution_count": 73,
   "metadata": {},
   "outputs": [
    {
     "name": "stdout",
     "output_type": "stream",
     "text": [
      "Train on 1501 samples, validate on 322 samples\n",
      "Epoch 1/100\n",
      "1501/1501 [==============================] - 3s 2ms/step - loss: 2.1740 - acc: 0.2845 - val_loss: 1.3258 - val_acc: 0.3789\n",
      "Epoch 2/100\n",
      "1501/1501 [==============================] - 2s 1ms/step - loss: 1.3800 - acc: 0.3151 - val_loss: 1.3101 - val_acc: 0.3882\n",
      "Epoch 3/100\n",
      "1501/1501 [==============================] - 2s 1ms/step - loss: 1.3495 - acc: 0.3304 - val_loss: 1.3046 - val_acc: 0.4037\n",
      "Epoch 4/100\n",
      "1501/1501 [==============================] - 2s 1ms/step - loss: 1.3459 - acc: 0.3291 - val_loss: 1.3131 - val_acc: 0.4037\n",
      "Epoch 5/100\n",
      "1501/1501 [==============================] - 2s 1ms/step - loss: 1.3389 - acc: 0.3431 - val_loss: 1.2902 - val_acc: 0.4503\n",
      "Epoch 6/100\n",
      "1501/1501 [==============================] - 2s 1ms/step - loss: 1.3252 - acc: 0.3678 - val_loss: 1.2947 - val_acc: 0.4037\n",
      "Epoch 7/100\n",
      "1501/1501 [==============================] - 2s 1ms/step - loss: 1.3160 - acc: 0.3658 - val_loss: 1.2840 - val_acc: 0.4317\n",
      "Epoch 8/100\n",
      "1501/1501 [==============================] - 2s 1ms/step - loss: 1.3103 - acc: 0.3691 - val_loss: 1.2695 - val_acc: 0.4472\n",
      "Epoch 9/100\n",
      "1501/1501 [==============================] - 2s 1ms/step - loss: 1.2842 - acc: 0.4017 - val_loss: 1.2665 - val_acc: 0.4565\n",
      "Epoch 10/100\n",
      "1501/1501 [==============================] - 2s 1ms/step - loss: 1.2795 - acc: 0.3904 - val_loss: 1.2517 - val_acc: 0.4565\n",
      "Epoch 11/100\n",
      "1501/1501 [==============================] - 2s 1ms/step - loss: 1.2667 - acc: 0.4157 - val_loss: 1.2537 - val_acc: 0.4503\n",
      "Epoch 12/100\n",
      "1501/1501 [==============================] - 2s 1ms/step - loss: 1.2688 - acc: 0.4071 - val_loss: 1.2715 - val_acc: 0.4099\n",
      "Epoch 13/100\n",
      "1501/1501 [==============================] - 2s 1ms/step - loss: 1.2525 - acc: 0.4097 - val_loss: 1.2428 - val_acc: 0.4503\n",
      "Epoch 14/100\n",
      "1501/1501 [==============================] - 2s 1ms/step - loss: 1.2495 - acc: 0.4077 - val_loss: 1.2365 - val_acc: 0.4286\n",
      "Epoch 15/100\n",
      "1501/1501 [==============================] - 2s 1ms/step - loss: 1.2319 - acc: 0.4284 - val_loss: 1.1952 - val_acc: 0.4783\n",
      "Epoch 16/100\n",
      "1501/1501 [==============================] - 2s 1ms/step - loss: 1.2359 - acc: 0.4357 - val_loss: 1.2119 - val_acc: 0.4161\n",
      "Epoch 17/100\n",
      "1501/1501 [==============================] - 2s 1ms/step - loss: 1.2229 - acc: 0.4397 - val_loss: 1.2113 - val_acc: 0.4627\n",
      "Epoch 18/100\n",
      "1501/1501 [==============================] - 2s 1ms/step - loss: 1.2068 - acc: 0.4617 - val_loss: 1.2167 - val_acc: 0.4317\n",
      "Epoch 19/100\n",
      "1501/1501 [==============================] - 2s 1ms/step - loss: 1.2180 - acc: 0.4370 - val_loss: 1.1859 - val_acc: 0.4845\n",
      "Epoch 20/100\n",
      "1501/1501 [==============================] - 2s 1ms/step - loss: 1.1887 - acc: 0.4550 - val_loss: 1.1624 - val_acc: 0.4938\n",
      "Epoch 21/100\n",
      "1501/1501 [==============================] - 2s 1ms/step - loss: 1.2005 - acc: 0.4437 - val_loss: 1.1530 - val_acc: 0.5031\n",
      "Epoch 22/100\n",
      "1501/1501 [==============================] - 2s 1ms/step - loss: 1.1929 - acc: 0.4457 - val_loss: 1.1571 - val_acc: 0.5124\n",
      "Epoch 23/100\n",
      "1501/1501 [==============================] - 2s 1ms/step - loss: 1.1773 - acc: 0.4823 - val_loss: 1.1607 - val_acc: 0.4907\n",
      "Epoch 24/100\n",
      "1501/1501 [==============================] - 2s 1ms/step - loss: 1.1788 - acc: 0.4644 - val_loss: 1.1994 - val_acc: 0.4689\n",
      "Epoch 25/100\n",
      "1501/1501 [==============================] - 2s 1ms/step - loss: 1.1740 - acc: 0.4617 - val_loss: 1.1754 - val_acc: 0.4845\n",
      "Epoch 26/100\n",
      "1501/1501 [==============================] - 2s 1ms/step - loss: 1.1581 - acc: 0.4843 - val_loss: 1.1610 - val_acc: 0.4720\n",
      "Epoch 27/100\n",
      "1501/1501 [==============================] - 2s 1ms/step - loss: 1.1383 - acc: 0.4897 - val_loss: 1.1282 - val_acc: 0.5062\n",
      "Epoch 28/100\n",
      "1501/1501 [==============================] - 2s 1ms/step - loss: 1.1650 - acc: 0.4697 - val_loss: 1.1446 - val_acc: 0.4938\n",
      "Epoch 29/100\n",
      "1501/1501 [==============================] - 2s 1ms/step - loss: 1.1401 - acc: 0.4857 - val_loss: 1.1156 - val_acc: 0.5342\n",
      "Epoch 30/100\n",
      "1501/1501 [==============================] - 2s 1ms/step - loss: 1.1366 - acc: 0.4990 - val_loss: 1.1391 - val_acc: 0.4969\n",
      "Epoch 31/100\n",
      "1501/1501 [==============================] - 2s 1ms/step - loss: 1.1317 - acc: 0.5030 - val_loss: 1.1172 - val_acc: 0.5186\n",
      "Epoch 32/100\n",
      "1501/1501 [==============================] - 2s 1ms/step - loss: 1.1187 - acc: 0.4950 - val_loss: 1.1086 - val_acc: 0.5497\n",
      "Epoch 33/100\n",
      "1501/1501 [==============================] - 2s 1ms/step - loss: 1.1308 - acc: 0.5057 - val_loss: 1.3432 - val_acc: 0.3696\n",
      "Epoch 34/100\n",
      "1501/1501 [==============================] - 2s 1ms/step - loss: 1.1290 - acc: 0.4857 - val_loss: 1.0948 - val_acc: 0.5404\n",
      "Epoch 35/100\n",
      "1501/1501 [==============================] - 2s 1ms/step - loss: 1.1121 - acc: 0.5017 - val_loss: 1.1057 - val_acc: 0.5062\n",
      "Epoch 36/100\n",
      "1501/1501 [==============================] - 2s 1ms/step - loss: 1.1125 - acc: 0.5063 - val_loss: 1.1104 - val_acc: 0.4969\n",
      "Epoch 37/100\n",
      "1501/1501 [==============================] - 2s 1ms/step - loss: 1.0953 - acc: 0.5197 - val_loss: 1.1184 - val_acc: 0.4876\n",
      "Epoch 38/100\n",
      "1501/1501 [==============================] - 2s 1ms/step - loss: 1.0975 - acc: 0.5057 - val_loss: 1.0888 - val_acc: 0.5248\n",
      "Epoch 39/100\n",
      "1501/1501 [==============================] - 2s 1ms/step - loss: 1.1121 - acc: 0.5057 - val_loss: 1.0968 - val_acc: 0.5124\n",
      "Epoch 40/100\n",
      "1501/1501 [==============================] - 2s 1ms/step - loss: 1.1094 - acc: 0.4950 - val_loss: 1.0873 - val_acc: 0.5373\n",
      "Epoch 41/100\n",
      "1501/1501 [==============================] - 2s 1ms/step - loss: 1.0907 - acc: 0.5057 - val_loss: 1.1102 - val_acc: 0.4969\n",
      "Epoch 42/100\n",
      "1501/1501 [==============================] - 2s 1ms/step - loss: 1.0823 - acc: 0.5330 - val_loss: 1.0902 - val_acc: 0.5062\n",
      "Epoch 43/100\n",
      "1501/1501 [==============================] - 2s 1ms/step - loss: 1.0921 - acc: 0.5197 - val_loss: 1.0832 - val_acc: 0.5404\n",
      "Epoch 44/100\n",
      "1501/1501 [==============================] - 2s 1ms/step - loss: 1.0905 - acc: 0.5103 - val_loss: 1.0788 - val_acc: 0.5311\n",
      "Epoch 45/100\n",
      "1501/1501 [==============================] - 2s 1ms/step - loss: 1.0680 - acc: 0.5270 - val_loss: 1.1177 - val_acc: 0.5093\n",
      "Epoch 46/100\n",
      "1501/1501 [==============================] - 2s 1ms/step - loss: 1.0700 - acc: 0.5316 - val_loss: 1.0681 - val_acc: 0.5373\n",
      "Epoch 47/100\n",
      "1501/1501 [==============================] - 2s 1ms/step - loss: 1.0690 - acc: 0.5296 - val_loss: 1.0663 - val_acc: 0.5311\n",
      "Epoch 48/100\n",
      "1501/1501 [==============================] - 2s 1ms/step - loss: 1.0582 - acc: 0.5303 - val_loss: 1.0972 - val_acc: 0.5155\n",
      "Epoch 49/100\n",
      "1501/1501 [==============================] - 2s 1ms/step - loss: 1.0648 - acc: 0.5217 - val_loss: 1.0553 - val_acc: 0.5404\n",
      "Epoch 50/100\n",
      "1501/1501 [==============================] - 2s 1ms/step - loss: 1.0452 - acc: 0.5503 - val_loss: 1.1064 - val_acc: 0.4876\n",
      "Epoch 51/100\n",
      "1501/1501 [==============================] - 2s 1ms/step - loss: 1.0558 - acc: 0.5390 - val_loss: 1.1047 - val_acc: 0.4907\n",
      "Epoch 52/100\n",
      "1501/1501 [==============================] - 2s 1ms/step - loss: 1.0486 - acc: 0.5563 - val_loss: 1.0525 - val_acc: 0.5466\n",
      "Epoch 53/100\n",
      "1501/1501 [==============================] - 2s 1ms/step - loss: 1.0393 - acc: 0.5543 - val_loss: 1.0452 - val_acc: 0.5559\n",
      "Epoch 54/100\n",
      "1501/1501 [==============================] - 2s 1ms/step - loss: 1.0247 - acc: 0.5430 - val_loss: 1.0654 - val_acc: 0.5248\n",
      "Epoch 55/100\n",
      "1501/1501 [==============================] - 2s 1ms/step - loss: 1.0368 - acc: 0.5376 - val_loss: 1.0472 - val_acc: 0.5404\n",
      "Epoch 56/100\n",
      "1501/1501 [==============================] - 2s 1ms/step - loss: 1.0114 - acc: 0.5523 - val_loss: 1.0218 - val_acc: 0.5652\n",
      "Epoch 57/100\n",
      "1501/1501 [==============================] - 2s 1ms/step - loss: 0.9986 - acc: 0.5656 - val_loss: 1.1108 - val_acc: 0.4814\n",
      "Epoch 58/100\n",
      "1501/1501 [==============================] - 2s 1ms/step - loss: 1.0247 - acc: 0.5570 - val_loss: 1.0286 - val_acc: 0.5528\n",
      "Epoch 59/100\n",
      "1501/1501 [==============================] - 2s 1ms/step - loss: 1.0212 - acc: 0.5463 - val_loss: 1.0452 - val_acc: 0.5652\n",
      "Epoch 60/100\n",
      "1501/1501 [==============================] - 2s 1ms/step - loss: 0.9981 - acc: 0.5736 - val_loss: 1.0647 - val_acc: 0.5342\n",
      "Epoch 61/100\n",
      "1501/1501 [==============================] - 2s 1ms/step - loss: 1.0210 - acc: 0.5403 - val_loss: 1.0444 - val_acc: 0.5373\n",
      "Epoch 62/100\n",
      "1501/1501 [==============================] - 2s 1ms/step - loss: 1.0012 - acc: 0.5796 - val_loss: 1.0394 - val_acc: 0.5404\n",
      "Epoch 63/100\n",
      "1501/1501 [==============================] - 2s 1ms/step - loss: 0.9881 - acc: 0.5823 - val_loss: 1.1049 - val_acc: 0.4969\n",
      "Epoch 64/100\n",
      "1501/1501 [==============================] - 2s 1ms/step - loss: 1.0146 - acc: 0.5563 - val_loss: 1.0473 - val_acc: 0.5280\n",
      "Epoch 65/100\n",
      "1501/1501 [==============================] - 2s 1ms/step - loss: 0.9841 - acc: 0.5763 - val_loss: 1.0227 - val_acc: 0.5621\n",
      "Epoch 66/100\n",
      "1501/1501 [==============================] - 2s 1ms/step - loss: 0.9857 - acc: 0.5756 - val_loss: 1.0607 - val_acc: 0.5248\n",
      "Epoch 67/100\n",
      "1501/1501 [==============================] - 2s 1ms/step - loss: 0.9896 - acc: 0.5743 - val_loss: 1.0817 - val_acc: 0.5093\n",
      "Epoch 68/100\n",
      "1501/1501 [==============================] - 2s 1ms/step - loss: 0.9710 - acc: 0.5929 - val_loss: 0.9977 - val_acc: 0.5932\n",
      "Epoch 69/100\n",
      "1501/1501 [==============================] - 2s 1ms/step - loss: 0.9849 - acc: 0.5769 - val_loss: 1.0399 - val_acc: 0.5311\n",
      "Epoch 70/100\n",
      "1501/1501 [==============================] - 2s 1ms/step - loss: 0.9875 - acc: 0.5803 - val_loss: 1.0038 - val_acc: 0.5714\n",
      "Epoch 71/100\n",
      "1501/1501 [==============================] - 2s 1ms/step - loss: 0.9809 - acc: 0.5849 - val_loss: 1.0909 - val_acc: 0.4969\n",
      "Epoch 72/100\n",
      "1501/1501 [==============================] - 2s 1ms/step - loss: 0.9535 - acc: 0.5943 - val_loss: 0.9903 - val_acc: 0.5870\n",
      "Epoch 73/100\n",
      "1501/1501 [==============================] - 2s 1ms/step - loss: 0.9491 - acc: 0.6043 - val_loss: 1.0096 - val_acc: 0.5621\n",
      "Epoch 74/100\n",
      "1501/1501 [==============================] - 2s 1ms/step - loss: 0.9479 - acc: 0.6029 - val_loss: 1.0792 - val_acc: 0.5093\n",
      "Epoch 75/100\n",
      "1501/1501 [==============================] - 2s 1ms/step - loss: 0.9452 - acc: 0.5949 - val_loss: 1.0253 - val_acc: 0.5559\n",
      "Epoch 76/100\n",
      "1501/1501 [==============================] - 2s 1ms/step - loss: 0.9231 - acc: 0.6169 - val_loss: 0.9947 - val_acc: 0.5621\n",
      "Epoch 77/100\n",
      "1501/1501 [==============================] - 2s 1ms/step - loss: 0.9543 - acc: 0.5903 - val_loss: 1.1388 - val_acc: 0.4814\n",
      "Epoch 78/100\n",
      "1501/1501 [==============================] - 2s 1ms/step - loss: 0.9407 - acc: 0.6136 - val_loss: 1.0337 - val_acc: 0.5186\n",
      "Epoch 79/100\n",
      "1501/1501 [==============================] - 2s 1ms/step - loss: 0.9450 - acc: 0.5996 - val_loss: 1.0312 - val_acc: 0.5404\n",
      "Epoch 80/100\n",
      "1501/1501 [==============================] - 2s 1ms/step - loss: 0.9208 - acc: 0.6223 - val_loss: 0.9802 - val_acc: 0.5714\n",
      "Epoch 81/100\n",
      "1501/1501 [==============================] - 2s 1ms/step - loss: 0.9238 - acc: 0.6129 - val_loss: 0.9684 - val_acc: 0.5932\n",
      "Epoch 82/100\n",
      "1501/1501 [==============================] - 2s 1ms/step - loss: 0.9257 - acc: 0.6083 - val_loss: 0.9795 - val_acc: 0.5466\n",
      "Epoch 83/100\n",
      "1501/1501 [==============================] - 2s 1ms/step - loss: 0.9407 - acc: 0.6143 - val_loss: 0.9938 - val_acc: 0.5714\n",
      "Epoch 84/100\n",
      "1501/1501 [==============================] - 2s 1ms/step - loss: 0.8982 - acc: 0.6302 - val_loss: 0.9779 - val_acc: 0.5683\n",
      "Epoch 85/100\n",
      "1501/1501 [==============================] - 2s 1ms/step - loss: 0.9184 - acc: 0.6176 - val_loss: 0.9854 - val_acc: 0.5745\n",
      "Epoch 86/100\n",
      "1501/1501 [==============================] - 2s 1ms/step - loss: 0.9006 - acc: 0.6262 - val_loss: 0.9603 - val_acc: 0.5994\n",
      "Epoch 87/100\n",
      "1501/1501 [==============================] - 2s 1ms/step - loss: 0.8921 - acc: 0.6336 - val_loss: 0.9646 - val_acc: 0.5870\n",
      "Epoch 88/100\n",
      "1501/1501 [==============================] - 2s 1ms/step - loss: 0.9168 - acc: 0.6176 - val_loss: 0.9659 - val_acc: 0.5963\n",
      "Epoch 89/100\n",
      "1501/1501 [==============================] - 2s 1ms/step - loss: 0.8958 - acc: 0.6229 - val_loss: 0.9768 - val_acc: 0.5807\n",
      "Epoch 90/100\n",
      "1501/1501 [==============================] - 2s 1ms/step - loss: 0.9071 - acc: 0.6276 - val_loss: 0.9627 - val_acc: 0.6025\n",
      "Epoch 91/100\n",
      "1501/1501 [==============================] - 2s 1ms/step - loss: 0.8975 - acc: 0.6316 - val_loss: 1.0476 - val_acc: 0.5155\n",
      "Epoch 92/100\n",
      "1501/1501 [==============================] - 2s 1ms/step - loss: 0.8922 - acc: 0.6336 - val_loss: 0.9536 - val_acc: 0.6087\n",
      "Epoch 93/100\n",
      "1501/1501 [==============================] - 2s 1ms/step - loss: 0.8815 - acc: 0.6422 - val_loss: 1.0248 - val_acc: 0.5373\n",
      "Epoch 94/100\n",
      "1501/1501 [==============================] - 2s 1ms/step - loss: 0.8970 - acc: 0.6342 - val_loss: 0.9559 - val_acc: 0.5994\n",
      "Epoch 95/100\n",
      "1501/1501 [==============================] - 2s 1ms/step - loss: 0.8782 - acc: 0.6309 - val_loss: 1.0133 - val_acc: 0.5745\n",
      "Epoch 96/100\n",
      "1501/1501 [==============================] - 2s 1ms/step - loss: 0.8781 - acc: 0.6349 - val_loss: 0.9467 - val_acc: 0.6025\n",
      "Epoch 97/100\n",
      "1501/1501 [==============================] - 2s 1ms/step - loss: 0.8538 - acc: 0.6396 - val_loss: 0.9661 - val_acc: 0.5342\n",
      "Epoch 98/100\n",
      "1501/1501 [==============================] - 2s 1ms/step - loss: 0.8788 - acc: 0.6276 - val_loss: 0.9499 - val_acc: 0.6025\n",
      "Epoch 99/100\n",
      "1501/1501 [==============================] - 2s 1ms/step - loss: 0.8787 - acc: 0.6502 - val_loss: 0.9513 - val_acc: 0.6087\n",
      "Epoch 100/100\n",
      "1501/1501 [==============================] - 2s 1ms/step - loss: 0.8641 - acc: 0.6476 - val_loss: 0.9330 - val_acc: 0.6087\n"
     ]
    }
   ],
   "source": [
    "from keras.callbacks import History \n",
    "history = History()\n",
    "hist = parallel_model.fit(X_train, y_train, validation_data=(X_val, y_val), batch_size=batch_size, epochs=nb_epoch, callbacks = [history])"
   ]
  },
  {
   "cell_type": "code",
   "execution_count": 74,
   "metadata": {},
   "outputs": [
    {
     "data": {
      "image/png": "[encoded data removed]",
      "text/plain": [
       "<Figure size 432x288 with 1 Axes>"
      ]
     },
     "metadata": {},
     "output_type": "display_data"
    },
    {
     "data": {
      "image/png": "[encoded data removed]",
      "text/plain": [
       "<Figure size 432x288 with 1 Axes>"
      ]
     },
     "metadata": {},
     "output_type": "display_data"
    }
   ],
   "source": [
    "plt.plot(history.history['val_acc'])\n",
    "plt.plot(history.history['acc'])\n",
    "plt.title('Model Accuracy')\n",
    "plt.ylabel('Accuracy')\n",
    "plt.xlabel('Epoch')\n",
    "plt.legend(['Validation','Train'])\n",
    "plt.show()\n",
    "\n",
    "plt.plot(history.history['loss'])\n",
    "plt.plot(history.history['val_loss'])\n",
    "plt.title('Model Loss')\n",
    "plt.ylabel('Loss')\n",
    "plt.xlabel('Epoch')\n",
    "plt.legend(['Validation', 'Train'], loc='upper right')\n",
    "plt.show()"
   ]
  },
  {
   "cell_type": "code",
   "execution_count": 76,
   "metadata": {},
   "outputs": [
    {
     "name": "stdout",
     "output_type": "stream",
     "text": [
      "(322, 60, 1722, 1) (322, 4)\n",
      "322/322 [==============================] - 0s 896us/step\n",
      "\n",
      "Accuracy = 0.58\n"
     ]
    }
   ],
   "source": [
    "# determine the ROC AUC score \n",
    "\n",
    "print(X_test.shape, y_test.shape)\n",
    "# determine the classification accuracy\n",
    "score, accuracy = parallel_model.evaluate(X_test, y_test)\n",
    "y_pred = parallel_model.predict(X_test)\n",
    "print(\"\\nAccuracy = {:.2f}\".format(accuracy))"
   ]
  },
  {
   "cell_type": "code",
   "execution_count": 77,
   "metadata": {},
   "outputs": [
    {
     "name": "stdout",
     "output_type": "stream",
     "text": [
      "(322,) (322,)\n"
     ]
    }
   ],
   "source": [
    "#y_pred = model.predict(test_x)\n",
    "y_pred1 = np.argmax(y_pred, axis=1)\n",
    "y_test1 = np.argmax(y_test, axis=1)\n",
    "print(y_pred1.shape,y_test1.shape)"
   ]
  },
  {
   "cell_type": "code",
   "execution_count": 84,
   "metadata": {},
   "outputs": [
    {
     "data": {
      "text/plain": [
       "['Bach', 'Brahms', 'Mozart', 'Schubert']"
      ]
     },
     "execution_count": 84,
     "metadata": {},
     "output_type": "execute_result"
    }
   ],
   "source": [
    "unique_categories = uniqueLabels\n",
    "unique_categories"
   ]
  },
  {
   "cell_type": "code",
   "execution_count": 86,
   "metadata": {},
   "outputs": [
    {
     "data": {
      "image/png": "[encoded data removed]",
      "text/plain": [
       "<Figure size 1440x720 with 2 Axes>"
      ]
     },
     "metadata": {},
     "output_type": "display_data"
    },
    {
     "data": {
      "text/plain": [
       "<Figure size 1440x1440 with 0 Axes>"
      ]
     },
     "metadata": {},
     "output_type": "display_data"
    }
   ],
   "source": [
    "#Error Analysis: Confusion Matrix\n",
    "from sklearn.metrics import confusion_matrix\n",
    "cm = confusion_matrix(y_test1, y_pred1)\n",
    "# cm = cm.astype('float') / cm.sum(axis=1)[:, np.newaxis]\n",
    "plt.figure(figsize=(20,10))\n",
    "plt.imshow(cm, interpolation='nearest', cmap='coolwarm')\n",
    "plt.title('Confusion Matrix \\n VGG-16, input=Mel-Frequency Spectrogram, deltas')\n",
    "plt.colorbar()\n",
    "tick_marks = np.arange(len(unique_categories))\n",
    "plt.xticks(tick_marks, unique_categories, rotation=90)\n",
    "plt.yticks(tick_marks, unique_categories)\n",
    "plt.figure(figsize=(20,20))\n",
    "# plt.savefig('_cm.png')\n",
    "plt.show()"
   ]
  },
  {
   "cell_type": "code",
   "execution_count": 87,
   "metadata": {},
   "outputs": [
    {
     "data": {
      "text/plain": [
       "<Figure size 1440x720 with 0 Axes>"
      ]
     },
     "metadata": {},
     "output_type": "display_data"
    },
    {
     "data": {
      "image/png": "[encoded data removed]",
      "text/plain": [
       "<Figure size 1440x720 with 2 Axes>"
      ]
     },
     "metadata": {},
     "output_type": "display_data"
    }
   ],
   "source": [
    "#Error Analysis: Confusion Matrix\n",
    "plt.figure(figsize=(20,10))\n",
    "cm = confusion_matrix(y_test1, y_pred1)\n",
    "cm = cm.astype('float') / cm.sum(axis=1)[:, np.newaxis]\n",
    "plt.figure(figsize=(20,10))\n",
    "plt.imshow(cm, interpolation='nearest', cmap='coolwarm')\n",
    "plt.title('Normalized Confusion Matrix \\n VGG-16, input=Mel-Frequency Spectrogram, deltas')\n",
    "plt.colorbar()\n",
    "tick_marks = np.arange(len(unique_categories))\n",
    "plt.xticks(tick_marks, unique_categories, rotation=90)\n",
    "plt.yticks(tick_marks, unique_categories)\n",
    "# plt.savefig('VGG16_input_melspec&deltas_Ncm.png')\n",
    "plt.show()"
   ]
  },
  {
   "cell_type": "code",
   "execution_count": null,
   "metadata": {},
   "outputs": [],
   "source": []
  }
 ],
 "metadata": {
  "kernelspec": {
   "display_name": "Python 3",
   "language": "python",
   "name": "python3"
  },
  "language_info": {
   "codemirror_mode": {
    "name": "ipython",
    "version": 3
   },
   "file_extension": ".py",
   "mimetype": "text/x-python",
   "name": "python",
   "nbconvert_exporter": "python",
   "pygments_lexer": "ipython3",
   "version": "3.5.3"
  }
 },
 "nbformat": 4,
 "nbformat_minor": 2
}
