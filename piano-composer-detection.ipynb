{
 "cells": [
  {
   "cell_type": "code",
   "execution_count": 1,
   "metadata": {},
   "outputs": [
    {
     "name": "stderr",
     "output_type": "stream",
     "text": [
      "Using TensorFlow backend.\n"
     ]
    }
   ],
   "source": [
    "import os\n",
    "import numpy as np\n",
    "import pandas as pd\n",
    "import scipy.io.wavfile\n",
    "import scipy.signal\n",
    "import matplotlib.pyplot as plt\n",
    "import keras\n",
    "from random import sample \n",
    "%matplotlib inline"
   ]
  },
  {
   "cell_type": "code",
   "execution_count": 2,
   "metadata": {},
   "outputs": [],
   "source": [
    "from keras.models import Sequential\n",
    "from keras.layers import Conv2D, MaxPooling2D, BatchNormalization, LSTM\n",
    "from keras.layers import TimeDistributed, Flatten, Dense, Reshape, Dropout\n",
    "from keras.utils import multi_gpu_model\n",
    "import tensorflow as tf"
   ]
  },
  {
   "cell_type": "code",
   "execution_count": 3,
   "metadata": {},
   "outputs": [],
   "source": [
    "from sklearn.metrics import confusion_matrix\n",
    "from sklearn.utils.multiclass import unique_labels"
   ]
  },
  {
   "cell_type": "code",
   "execution_count": 4,
   "metadata": {},
   "outputs": [],
   "source": [
    "def plot_confusion_matrix(y_true, y_pred, classes,\n",
    "                          title=None,\n",
    "                          cmap=plt.cm.Blues):\n",
    "    # Compute confusion matrix\n",
    "    cm = confusion_matrix(y_true, y_pred)\n",
    "    # Only use the labels that appear in the data\n",
    "    classes = [classes[i] for i in unique_labels(y_true, y_pred)]\n",
    "    cm = cm.astype('float') / cm.sum(axis=1)[:, np.newaxis]\n",
    "\n",
    "    fig, ax = plt.subplots()\n",
    "    im = ax.imshow(cm, interpolation='nearest', cmap=cmap)\n",
    "    ax.figure.colorbar(im, ax=ax)\n",
    "    # We want to show all ticks...\n",
    "    ax.set(xticks=np.arange(cm.shape[1]),\n",
    "           yticks=np.arange(cm.shape[0]),\n",
    "           # ... and label them with the respective list entries\n",
    "           xticklabels=classes, yticklabels=classes,\n",
    "           title=title,\n",
    "           ylabel='True label',\n",
    "           xlabel='Predicted label')\n",
    "\n",
    "    # Rotate the tick labels and set their alignment.\n",
    "    plt.setp(ax.get_xticklabels(), rotation=45, ha=\"right\",\n",
    "             rotation_mode=\"anchor\")\n",
    "\n",
    "    # Loop over data dimensions and create text annotations.\n",
    "    fmt = '.2f'\n",
    "    thresh = cm.max() / 2.\n",
    "    for i in range(cm.shape[0]):\n",
    "        for j in range(cm.shape[1]):\n",
    "            ax.text(j, i, format(cm[i, j], fmt),\n",
    "                    ha=\"center\", va=\"center\",\n",
    "                    color=\"white\" if cm[i, j] > thresh else \"black\")\n",
    "    fig.tight_layout()\n",
    "    return ax"
   ]
  },
  {
   "cell_type": "code",
   "execution_count": 6,
   "metadata": {},
   "outputs": [],
   "source": [
    "metadata = pd.read_csv('musicnet_metadata.csv')"
   ]
  },
  {
   "cell_type": "code",
   "execution_count": 7,
   "metadata": {},
   "outputs": [
    {
     "data": {
      "text/plain": [
       "composer\n",
       "Bach          67\n",
       "Beethoven    157\n",
       "Brahms        24\n",
       "Cambini        9\n",
       "Dvorak         8\n",
       "Faure          4\n",
       "Haydn          3\n",
       "Mozart        24\n",
       "Ravel          4\n",
       "Schubert      30\n",
       "dtype: int64"
      ]
     },
     "execution_count": 7,
     "metadata": {},
     "output_type": "execute_result"
    }
   ],
   "source": [
    "metadata.groupby('composer').apply(len)"
   ]
  },
  {
   "cell_type": "code",
   "execution_count": 29,
   "metadata": {},
   "outputs": [],
   "source": [
    "composers = ['Bach','Brahms','Mozart','Schubert']"
   ]
  },
  {
   "cell_type": "code",
   "execution_count": 8,
   "metadata": {},
   "outputs": [],
   "source": [
    "piano = [metadata.iloc[i].loc['id']  for i in metadata.index \\\n",
    "         if 'piano' in metadata.iloc[i].loc['ensemble'].lower()]# and \\\n",
    "        #metadata.iloc[i].loc['composer'] in composers]"
   ]
  },
  {
   "cell_type": "code",
   "execution_count": 9,
   "metadata": {},
   "outputs": [],
   "source": [
    "classes = eval(open('processed/labels.txt').read())\n",
    "classes = {v:k for k,v in classes.items()}"
   ]
  },
  {
   "cell_type": "code",
   "execution_count": null,
   "metadata": {},
   "outputs": [],
   "source": []
  },
  {
   "cell_type": "code",
   "execution_count": 10,
   "metadata": {},
   "outputs": [],
   "source": [
    "''' SOURCE: https://stanford.edu/~shervine/blog/keras-how-to-generate-data-on-the-fly '''\n",
    "class DataGenerator(keras.utils.Sequence):\n",
    "    'Generates data for Keras'\n",
    "    def __init__(self, list_IDs, labels, batch_size=32, dim=(32,32,32), n_channels=1,\n",
    "                 n_classes=10, shuffle=True):\n",
    "        'Initialization'\n",
    "        self.dim = dim\n",
    "        self.batch_size = batch_size\n",
    "        self.labels = labels\n",
    "        self.list_IDs = list_IDs\n",
    "        self.n_channels = n_channels\n",
    "        self.n_classes = n_classes\n",
    "        self.shuffle = shuffle\n",
    "        self.on_epoch_end()\n",
    "\n",
    "    def __len__(self):\n",
    "        'Denotes the number of batches per epoch'\n",
    "        return int(np.floor(len(self.list_IDs) / self.batch_size))\n",
    "\n",
    "    def __getitem__(self, index):\n",
    "        'Generate one batch of data'\n",
    "        # Generate indexes of the batch\n",
    "        indexes = self.indexes[index*self.batch_size:(index+1)*self.batch_size]\n",
    "\n",
    "        # Find list of IDs\n",
    "        list_IDs_temp = [self.list_IDs[k] for k in indexes]\n",
    "\n",
    "        # Generate data\n",
    "        X, y = self.__data_generation(list_IDs_temp)\n",
    "\n",
    "        return X, y\n",
    "\n",
    "    def on_epoch_end(self):\n",
    "        'Updates indexes after each epoch'\n",
    "        self.indexes = np.arange(len(self.list_IDs))\n",
    "        if self.shuffle == True:\n",
    "            np.random.shuffle(self.indexes)\n",
    "\n",
    "    def __data_generation(self, list_IDs_temp):\n",
    "        'Generates data containing batch_size samples' # X : (n_samples, *dim, n_channels)\n",
    "        # Initialization\n",
    "        X = np.empty((self.batch_size, *self.dim, self.n_channels))\n",
    "        y = np.empty((self.batch_size), dtype=int)\n",
    "\n",
    "        # Generate data\n",
    "        for i, ID in enumerate(list_IDs_temp):\n",
    "            # Store sample\n",
    "            X[i,:,:,0] = (np.genfromtxt('processed/%d.csv' % ID, delimiter=','))\n",
    "            # gdrive support only\n",
    "            #X[i,:,:,0] = np.transpose(np.genfromtxt('processed/%s/%d.csv' % (str(ID)[0],ID), delimiter=','))\n",
    "\n",
    "            # Store class\n",
    "            y[i] = self.labels.loc[ID+1, 0]\n",
    "\n",
    "        return X, keras.utils.to_categorical(y, num_classes=self.n_classes)\n",
    "    \n",
    "class STFTDataGenerator(DataGenerator):\n",
    "    'Generates data for Keras'\n",
    "    def __getitem__(self, index):\n",
    "        'Generate one batch of data'\n",
    "        # Generate indexes of the batch\n",
    "        indexes = self.indexes[index*self.batch_size:(index+1)*self.batch_size]\n",
    "\n",
    "        # Find list of IDs\n",
    "        list_IDs_temp = [self.list_IDs[k] for k in indexes]\n",
    "\n",
    "        # Generate data\n",
    "        X, y = self.__data_generation(list_IDs_temp)\n",
    "\n",
    "        return X, y\n",
    "    \n",
    "    def __data_generation(self, list_IDs_temp):\n",
    "        'Generates data containing batch_size samples' # X : (n_samples, *dim, n_channels)\n",
    "        # Initialization\n",
    "        X = np.empty((self.batch_size, *self.dim, self.n_channels))\n",
    "        y = np.empty((self.batch_size), dtype=int)\n",
    "\n",
    "        # Generate data\n",
    "        for i, ID in enumerate(list_IDs_temp):\n",
    "            # Store sample\n",
    "            X[i,:,:,0] = (np.genfromtxt('processed/%d.csv' % ID, delimiter=','))[:883,:]\n",
    "            # gdrive support only\n",
    "            #X[i,:,:,0] = np.transpose(np.genfromtxt('processed/%s/%d.csv' % (str(ID)[0],ID), delimiter=','))\n",
    "\n",
    "            # Store class\n",
    "            y[i] = self.labels.loc[ID+1, 0]\n",
    "\n",
    "        return X, keras.utils.to_categorical(y, num_classes=self.n_classes)\n",
    "\n",
    "class MFCCDataGenerator(DataGenerator):\n",
    "    'Generates data for Keras'\n",
    "    def __getitem__(self, index):\n",
    "        'Generate one batch of data'\n",
    "        # Generate indexes of the batch\n",
    "        indexes = self.indexes[index*self.batch_size:(index+1)*self.batch_size]\n",
    "\n",
    "        # Find list of IDs\n",
    "        list_IDs_temp = [self.list_IDs[k] for k in indexes]\n",
    "\n",
    "        # Generate data\n",
    "        X, y = self.__data_generation(list_IDs_temp)\n",
    "\n",
    "        return X, y\n",
    "    \n",
    "    def __data_generation(self, list_IDs_temp):\n",
    "        'Generates data containing batch_size samples' # X : (n_samples, *dim, n_channels)\n",
    "        # Initialization\n",
    "        X = np.empty((self.batch_size, *self.dim, self.n_channels))\n",
    "        y = np.empty((self.batch_size), dtype=int)\n",
    "\n",
    "        # Generate data\n",
    "        for i, ID in enumerate(list_IDs_temp):\n",
    "            # Store sample\n",
    "            X[i,:,:,0] = (np.genfromtxt('processed/%d.csv' % ID, delimiter=','))[:,-30:]\n",
    "            # gdrive support only\n",
    "            #X[i,:,:,0] = np.transpose(np.genfromtxt('processed/%s/%d.csv' % (str(ID)[0],ID), delimiter=','))\n",
    "\n",
    "            # Store class\n",
    "            y[i] = self.labels.loc[ID+1, 0]\n",
    "\n",
    "        return X, keras.utils.to_categorical(y, num_classes=self.n_classes)"
   ]
  },
  {
   "cell_type": "code",
   "execution_count": 11,
   "metadata": {},
   "outputs": [],
   "source": [
    "''' \n",
    "  Based on the Neural network architecture from: \n",
    "\n",
    "    Gianluca Micchi. A neural network for composer classification. \n",
    "    International Society for Music Information Retrieval Conference (ISMIR 2018), 2018, Paris, France. <hal-01879276>\n",
    "\n",
    "  and Keras code from https://stanford.edu/~shervine/blog/keras-how-to-generate-data-on-the-fly\n",
    "'''\n",
    "\n",
    "\n",
    "#num_classes = len(composers)\n",
    "num_classes = 10 # since Y ranges from 0 to 9, using them all\n",
    "\n",
    "#labels = pd.read_csv('processed/labels.csv',index_col=0,header=None) # Labels\n",
    "labels = pd.read_csv('processed/labels.csv').T\n",
    "labels = labels.drop([labels.index[0]],axis=0)\n",
    "labels.index = labels.index.astype(np.int64)\n",
    "\n",
    "labels = labels[[(i in piano) for i in labels[1]]]\n",
    "\n",
    "#indices = list(labels.index[labels[1]!=1]-1)\n",
    "#indices = range(1,labels.shape[0] +1)\n",
    "indices = list(labels.index -1)\n",
    "\n",
    "DATASET_SIZE = len(indices)\n",
    "TRAIN_SIZE = int(.8*DATASET_SIZE)"
   ]
  },
  {
   "cell_type": "code",
   "execution_count": null,
   "metadata": {},
   "outputs": [],
   "source": [
    "trainIDs = sample(indices, TRAIN_SIZE)\n",
    "valIDs = [i for i in indices if i not in trainIDs]\n",
    "testIDs = sample(valIDs, int(.5*len(valIDs)))\n",
    "valIDs = [i for i in valIDs if i not in testIDs]\n"
   ]
  },
  {
   "cell_type": "code",
   "execution_count": 13,
   "metadata": {},
   "outputs": [],
   "source": [
    "str_ids = open('cnn_lstm_split.txt')\n",
    "(trainIDs,valIDs,testIDs) = eval(str_ids.read())\n",
    "str_ids.close()"
   ]
  },
  {
   "cell_type": "code",
   "execution_count": 14,
   "metadata": {},
   "outputs": [],
   "source": [
    "\n",
    "# Datasets\n",
    "partition = {'train': trainIDs, 'validation': valIDs, 'test': testIDs} # IDs"
   ]
  },
  {
   "cell_type": "markdown",
   "metadata": {},
   "source": [
    "First model - Mel spectrum"
   ]
  },
  {
   "cell_type": "code",
   "execution_count": 101,
   "metadata": {},
   "outputs": [],
   "source": [
    "#MFCC First\n",
    "# Parameters\n",
    "params = {'dim': (1723,30),\n",
    "          'batch_size': 128,\n",
    "          'n_classes': num_classes,\n",
    "          'n_channels': 1,\n",
    "          'shuffle': True}\n",
    "\n",
    "\n",
    "# Generators\n",
    "training_generator = MFCCDataGenerator(partition['train'], labels, **params)\n",
    "validation_generator = MFCCDataGenerator(partition['validation'], labels, **params)\n",
    "testing_generator = MFCCDataGenerator(partition['test'], labels, **params)"
   ]
  },
  {
   "cell_type": "code",
   "execution_count": 104,
   "metadata": {},
   "outputs": [],
   "source": [
    "# Design model\n",
    "\n",
    "with tf.device('/cpu:0'):\n",
    "    model = Sequential()\n",
    "\n",
    "    model.add(Conv2D(16, (16, 8), input_shape = (1723, 30, 1), activation='relu'))\n",
    "    model.add(MaxPooling2D(pool_size=(4, 1)))\n",
    "    model.add(BatchNormalization())\n",
    "    model.add(Dropout(.3))\n",
    "\n",
    "    model.add(Conv2D(16, (16, 8), activation='relu'))\n",
    "    model.add(MaxPooling2D(pool_size=(4, 1)))\n",
    "    model.add(BatchNormalization())\n",
    "    model.add(Dropout(.3))\n",
    "\n",
    "    model.add(Conv2D(16, (16, 8), activation='relu'))\n",
    "    model.add(MaxPooling2D(pool_size=(2, 1)))\n",
    "    model.add(BatchNormalization())\n",
    "\n",
    "    model.add(Reshape([44,9*16]))\n",
    "\n",
    "    model.add(LSTM(num_classes, return_sequences=True))\n",
    "    model.add(Dropout(.3))\n",
    "    model.add(LSTM(num_classes))\n",
    "\n",
    "    model.add(Dense(num_classes))\n",
    "    model.add(Dropout(.1))\n",
    "    model.add(Dense(num_classes, activation='softmax'))\n",
    "\n",
    "    model.compile(loss='categorical_crossentropy', metrics=['categorical_accuracy'], optimizer='adam')\n",
    "\n",
    "parallel_model = multi_gpu_model(model, gpus=2)\n",
    "parallel_model.compile(loss='categorical_crossentropy',\n",
    "                       metrics=['acc'], optimizer='adam')"
   ]
  },
  {
   "cell_type": "code",
   "execution_count": 105,
   "metadata": {},
   "outputs": [
    {
     "name": "stdout",
     "output_type": "stream",
     "text": [
      "Epoch 1/100\n",
      "20/20 [==============================] - 146s 7s/step - loss: 2.0888 - acc: 0.4293 - val_loss: 2.0765 - val_acc: 0.4570\n",
      "Epoch 2/100\n",
      "20/20 [==============================] - 136s 7s/step - loss: 1.6744 - acc: 0.6062 - val_loss: 1.7700 - val_acc: 0.4609\n",
      "Epoch 3/100\n",
      "20/20 [==============================] - 139s 7s/step - loss: 1.3995 - acc: 0.6078 - val_loss: 1.9898 - val_acc: 0.3359\n",
      "Epoch 4/100\n",
      "Epoch 3/100\n",
      "20/20 [==============================] - 139s 7s/step - loss: 1.2509 - acc: 0.6180 - val_loss: 2.5721 - val_acc: 0.0938\n",
      "Epoch 5/100\n",
      "20/20 [==============================] - 135s 7s/step - loss: 1.1466 - acc: 0.6414 - val_loss: 1.7462 - val_acc: 0.3438\n",
      "Epoch 6/100\n",
      "19/20 [===========================>..] - ETA: 6s - loss: 1.0932 - acc: 0.6345 Epoch 6/100\n",
      "20/20 [==============================] - 132s 7s/step - loss: 1.0913 - acc: 0.6371 - val_loss: 2.1093 - val_acc: 0.2656\n",
      "Epoch 7/100\n",
      "20/20 [==============================] - 136s 7s/step - loss: 1.0437 - acc: 0.6484 - val_loss: 1.1325 - val_acc: 0.6055\n",
      "Epoch 8/100\n",
      "20/20 [==============================] - 136s 7s/step - loss: 0.9836 - acc: 0.6617 - val_loss: 2.3868 - val_acc: 0.1484\n",
      "Epoch 9/100\n",
      "20/20 [==============================] - 138s 7s/step - loss: 0.9671 - acc: 0.6574 - val_loss: 2.3286 - val_acc: 0.1406\n",
      "Epoch 10/100\n",
      "20/20 [==============================] - 141s 7s/step - loss: 0.9465 - acc: 0.6551 - val_loss: 2.1045 - val_acc: 0.1562\n",
      "Epoch 11/100\n",
      "20/20 [==============================] - 138s 7s/step - loss: 0.8678 - acc: 0.6879 - val_loss: 1.0537 - val_acc: 0.6328\n",
      "Epoch 12/100\n",
      "20/20 [==============================] - 133s 7s/step - loss: 0.8217 - acc: 0.7070 - val_loss: 0.8804 - val_acc: 0.6758\n",
      "Epoch 13/100\n",
      "20/20 [==============================] - 137s 7s/step - loss: 0.7869 - acc: 0.7191 - val_loss: 1.3900 - val_acc: 0.6094\n",
      "Epoch 14/100\n",
      "Epoch 13/100\n",
      "19/20 [===========================>..] - ETA: 6s - loss: 0.7469 - acc: 0.7225 Epoch 14/100\n",
      "20/20 [==============================] - 135s 7s/step - loss: 0.7540 - acc: 0.7219 - val_loss: 1.3546 - val_acc: 0.4922\n",
      "Epoch 15/100\n",
      "20/20 [==============================] - 133s 7s/step - loss: 0.7627 - acc: 0.7285 - val_loss: 1.6581 - val_acc: 0.4297\n",
      "Epoch 16/100\n",
      "20/20 [==============================] - 139s 7s/step - loss: 0.7694 - acc: 0.7199 - val_loss: 1.1671 - val_acc: 0.5977\n",
      "Epoch 17/100\n",
      "20/20 [==============================] - 137s 7s/step - loss: 0.7098 - acc: 0.7418 - val_loss: 1.1750 - val_acc: 0.6328\n",
      "Epoch 18/100\n",
      "20/20 [==============================] - 138s 7s/step - loss: 0.6438 - acc: 0.7699 - val_loss: 1.2985 - val_acc: 0.6328\n",
      "Epoch 19/100\n",
      "20/20 [==============================] - 137s 7s/step - loss: 0.6524 - acc: 0.7699 - val_loss: 1.8372 - val_acc: 0.3320\n",
      "Epoch 20/100\n",
      "19/20 [===========================>..] - ETA: 7s - loss: 0.6096 - acc: 0.7821 Epoch 20/100\n",
      "20/20 [==============================] - 137s 7s/step - loss: 0.6081 - acc: 0.7801 - val_loss: 1.0504 - val_acc: 0.6016\n",
      "Epoch 21/100\n",
      "20/20 [==============================] - 136s 7s/step - loss: 0.5924 - acc: 0.7977 - val_loss: 1.7768 - val_acc: 0.3125\n",
      "Epoch 22/100\n",
      "20/20 [==============================] - 137s 7s/step - loss: 0.5544 - acc: 0.8141 - val_loss: 1.3680 - val_acc: 0.6172\n",
      "Epoch 23/100\n",
      "20/20 [==============================] - 136s 7s/step - loss: 0.5860 - acc: 0.7930 - val_loss: 1.0537 - val_acc: 0.7148\n",
      "Epoch 24/100\n",
      "19/20 [===========================>..] - ETA: 7s - loss: 0.5222 - acc: 0.8294 Epoch 24/100\n",
      "20/20 [==============================] - 140s 7s/step - loss: 0.5288 - acc: 0.8285 - val_loss: 1.6254 - val_acc: 0.3984\n",
      "Epoch 25/100\n",
      "20/20 [==============================] - 138s 7s/step - loss: 0.5057 - acc: 0.8387 - val_loss: 1.7143 - val_acc: 0.6016\n",
      "Epoch 26/100\n",
      "20/20 [==============================] - 136s 7s/step - loss: 0.4655 - acc: 0.8473 - val_loss: 1.4247 - val_acc: 0.6758\n",
      "Epoch 27/100\n",
      "20/20 [==============================] - 141s 7s/step - loss: 0.4420 - acc: 0.8488 - val_loss: 0.7869 - val_acc: 0.7930\n",
      "Epoch 28/100\n",
      "20/20 [==============================] - 138s 7s/step - loss: 0.4236 - acc: 0.8691 - val_loss: 2.7012 - val_acc: 0.2188\n",
      "Epoch 29/100\n",
      "20/20 [==============================] - 138s 7s/step - loss: 0.4388 - acc: 0.8547 - val_loss: 2.1061 - val_acc: 0.3008\n",
      "Epoch 30/100\n",
      "20/20 [==============================] - 132s 7s/step - loss: 0.4060 - acc: 0.8641 - val_loss: 0.5278 - val_acc: 0.8438\n",
      "Epoch 31/100\n",
      "20/20 [==============================] - 135s 7s/step - loss: 0.3842 - acc: 0.8777 - val_loss: 1.0830 - val_acc: 0.6484\n",
      "Epoch 32/100\n",
      "20/20 [==============================] - 135s 7s/step - loss: 0.3534 - acc: 0.8902 - val_loss: 1.0819 - val_acc: 0.7305\n",
      "Epoch 33/100\n",
      "20/20 [==============================] - 140s 7s/step - loss: 0.3998 - acc: 0.8691 - val_loss: 2.5137 - val_acc: 0.2695\n",
      "Epoch 34/100\n",
      "20/20 [==============================] - 137s 7s/step - loss: 0.3509 - acc: 0.8938 - val_loss: 1.4311 - val_acc: 0.6875\n",
      "Epoch 35/100\n",
      "20/20 [==============================] - 137s 7s/step - loss: 0.3349 - acc: 0.8988 - val_loss: 1.2558 - val_acc: 0.6289\n",
      "Epoch 36/100\n",
      "20/20 [==============================] - 135s 7s/step - loss: 0.3707 - acc: 0.8777 - val_loss: 1.3603 - val_acc: 0.6328\n",
      "Epoch 37/100\n",
      "20/20 [==============================] - 141s 7s/step - loss: 0.3496 - acc: 0.8891 - val_loss: 1.7371 - val_acc: 0.6250\n",
      "Epoch 38/100\n",
      "20/20 [==============================] - 137s 7s/step - loss: 0.2917 - acc: 0.9105 - val_loss: 1.8680 - val_acc: 0.6328\n",
      "Epoch 39/100\n",
      "Epoch 38/100\n",
      "20/20 [==============================] - 138s 7s/step - loss: 0.2765 - acc: 0.9187 - val_loss: 0.7582 - val_acc: 0.8164\n",
      "Epoch 40/100\n",
      "20/20 [==============================] - 142s 7s/step - loss: 0.2746 - acc: 0.9176 - val_loss: 0.9881 - val_acc: 0.7695\n",
      "Epoch 41/100\n",
      "20/20 [==============================] - 139s 7s/step - loss: 0.3047 - acc: 0.8980 - val_loss: 1.6707 - val_acc: 0.6367\n",
      "Epoch 42/100\n",
      "20/20 [==============================] - 134s 7s/step - loss: 0.2801 - acc: 0.9168 - val_loss: 1.8908 - val_acc: 0.6328\n",
      "Epoch 43/100\n",
      "20/20 [==============================] - 142s 7s/step - loss: 0.2507 - acc: 0.9234 - val_loss: 1.1903 - val_acc: 0.5586\n",
      "Epoch 44/100\n",
      "20/20 [==============================] - 134s 7s/step - loss: 0.2455 - acc: 0.9219 - val_loss: 1.5926 - val_acc: 0.5430\n",
      "\n",
      "Epoch 45/100\n",
      "20/20 [==============================] - 138s 7s/step - loss: 0.2441 - acc: 0.9266 - val_loss: 1.4891 - val_acc: 0.6484\n",
      "Epoch 46/100\n",
      "20/20 [==============================] - 132s 7s/step - loss: 0.3323 - acc: 0.8965 - val_loss: 2.6546 - val_acc: 0.3359\n",
      "Epoch 47/100\n",
      "20/20 [==============================] - 134s 7s/step - loss: 0.2780 - acc: 0.9113 - val_loss: 1.8511 - val_acc: 0.4844\n",
      "Epoch 48/100\n",
      "20/20 [==============================] - 139s 7s/step - loss: 0.2145 - acc: 0.9316 - val_loss: 2.2895 - val_acc: 0.3828\n",
      "Epoch 49/100\n",
      "20/20 [==============================] - 141s 7s/step - loss: 0.2102 - acc: 0.9352 - val_loss: 1.9456 - val_acc: 0.4414\n",
      "Epoch 50/100\n",
      "20/20 [==============================] - 135s 7s/step - loss: 0.1932 - acc: 0.9395 - val_loss: 0.5020 - val_acc: 0.8633\n",
      "Epoch 51/100\n",
      "20/20 [==============================] - 137s 7s/step - loss: 0.2235 - acc: 0.9293 - val_loss: 1.4652 - val_acc: 0.7188\n",
      "Epoch 52/100\n",
      "20/20 [==============================] - 135s 7s/step - loss: 0.2009 - acc: 0.9406 - val_loss: 0.8591 - val_acc: 0.7969\n",
      "Epoch 53/100\n",
      "20/20 [==============================] - 135s 7s/step - loss: 0.1991 - acc: 0.9355 - val_loss: 0.5688 - val_acc: 0.8516\n",
      "Epoch 54/100\n",
      "20/20 [==============================] - 132s 7s/step - loss: 0.1877 - acc: 0.9422 - val_loss: 0.7767 - val_acc: 0.7656\n",
      "Epoch 55/100\n",
      "20/20 [==============================] - 137s 7s/step - loss: 0.2077 - acc: 0.9352 - val_loss: 1.8217 - val_acc: 0.5703\n",
      "Epoch 56/100\n",
      "20/20 [==============================] - 136s 7s/step - loss: 0.1868 - acc: 0.9430 - val_loss: 1.0136 - val_acc: 0.8086\n",
      "Epoch 57/100\n",
      "20/20 [==============================] - 136s 7s/step - loss: 0.1665 - acc: 0.9508 - val_loss: 3.1122 - val_acc: 0.3320\n",
      "Epoch 58/100\n",
      "20/20 [==============================] - 132s 7s/step - loss: 0.1431 - acc: 0.9582 - val_loss: 0.5392 - val_acc: 0.8633\n",
      "Epoch 59/100\n",
      "20/20 [==============================] - 135s 7s/step - loss: 0.1466 - acc: 0.9586 - val_loss: 0.4957 - val_acc: 0.8555\n",
      "Epoch 60/100\n",
      "20/20 [==============================] - 133s 7s/step - loss: 0.1501 - acc: 0.9539 - val_loss: 0.5508 - val_acc: 0.8555\n",
      "Epoch 61/100\n",
      "20/20 [==============================] - 138s 7s/step - loss: 0.1700 - acc: 0.9488 - val_loss: 2.7210 - val_acc: 0.4219\n",
      "Epoch 62/100\n",
      "20/20 [==============================] - 138s 7s/step - loss: 0.1512 - acc: 0.9520 - val_loss: 0.8396 - val_acc: 0.8047\n",
      "Epoch 63/100\n",
      "20/20 [==============================] - 139s 7s/step - loss: 0.1474 - acc: 0.9574 - val_loss: 1.0964 - val_acc: 0.7773\n",
      "Epoch 64/100\n",
      "20/20 [==============================] - 133s 7s/step - loss: 0.1500 - acc: 0.9535 - val_loss: 2.7229 - val_acc: 0.4766\n",
      "Epoch 65/100\n",
      "20/20 [==============================] - 131s 7s/step - loss: 0.1225 - acc: 0.9645 - val_loss: 1.0073 - val_acc: 0.7461\n",
      "Epoch 66/100\n",
      "20/20 [==============================] - 142s 7s/step - loss: 0.1160 - acc: 0.9699 - val_loss: 1.1606 - val_acc: 0.7188\n",
      "Epoch 67/100\n",
      "20/20 [==============================] - 136s 7s/step - loss: 0.1337 - acc: 0.9629 - val_loss: 1.7116 - val_acc: 0.6250\n",
      "Epoch 68/100\n",
      "20/20 [==============================] - 130s 6s/step - loss: 0.1149 - acc: 0.9676 - val_loss: 0.5039 - val_acc: 0.8789\n",
      "Epoch 69/100\n",
      "20/20 [==============================] - 139s 7s/step - loss: 0.1293 - acc: 0.9617 - val_loss: 0.5348 - val_acc: 0.9023\n",
      "Epoch 70/100\n",
      "20/20 [==============================] - 139s 7s/step - loss: 0.1337 - acc: 0.9613 - val_loss: 2.3904 - val_acc: 0.4609\n",
      "Epoch 71/100\n",
      "20/20 [==============================] - 138s 7s/step - loss: 0.1156 - acc: 0.9695 - val_loss: 1.5118 - val_acc: 0.7305\n",
      "Epoch 72/100\n",
      "20/20 [==============================] - 132s 7s/step - loss: 0.1231 - acc: 0.9684 - val_loss: 0.8633 - val_acc: 0.8086\n",
      "Epoch 72/100\n",
      "Epoch 73/100\n",
      "20/20 [==============================] - 133s 7s/step - loss: 0.1018 - acc: 0.9703 - val_loss: 0.6179 - val_acc: 0.8750\n",
      "Epoch 74/100\n",
      "20/20 [==============================] - 139s 7s/step - loss: 0.0974 - acc: 0.9707 - val_loss: 0.4980 - val_acc: 0.8828\n",
      "Epoch 75/100\n",
      "20/20 [==============================] - 135s 7s/step - loss: 0.1039 - acc: 0.9723 - val_loss: 3.8232 - val_acc: 0.3711\n",
      "Epoch 76/100\n",
      "20/20 [==============================] - 134s 7s/step - loss: 0.1113 - acc: 0.9672 - val_loss: 0.8046 - val_acc: 0.8086\n",
      "Epoch 77/100\n",
      "20/20 [==============================] - 137s 7s/step - loss: 0.0843 - acc: 0.9750 - val_loss: 0.5840 - val_acc: 0.8828\n",
      "Epoch 78/100\n",
      "20/20 [==============================] - 132s 7s/step - loss: 0.0957 - acc: 0.9750 - val_loss: 1.7330 - val_acc: 0.6367\n",
      "Epoch 79/100\n",
      "19/20 [===========================>..] - ETA: 6s - loss: 0.1181 - acc: 0.9630 Epoch 79/100\n",
      "20/20 [==============================] - 131s 7s/step - loss: 0.1175 - acc: 0.9625 - val_loss: 2.0446 - val_acc: 0.5352\n",
      "Epoch 80/100\n",
      "20/20 [==============================] - 130s 6s/step - loss: 0.0963 - acc: 0.9738 - val_loss: 1.5052 - val_acc: 0.6953\n",
      "Epoch 81/100\n",
      "20/20 [==============================] - 133s 7s/step - loss: 0.0963 - acc: 0.9711 - val_loss: 0.7919 - val_acc: 0.8516\n",
      "Epoch 82/100\n",
      "20/20 [==============================] - 139s 7s/step - loss: 0.1133 - acc: 0.9652 - val_loss: 2.8539 - val_acc: 0.4297\n",
      "Epoch 83/100\n",
      "20/20 [==============================] - 138s 7s/step - loss: 0.0919 - acc: 0.9742 - val_loss: 0.9375 - val_acc: 0.7891\n",
      "Epoch 84/100\n",
      "20/20 [==============================] - 132s 7s/step - loss: 0.0990 - acc: 0.9730 - val_loss: 0.7162 - val_acc: 0.8125\n",
      "Epoch 85/100\n",
      "20/20 [==============================] - 140s 7s/step - loss: 0.0996 - acc: 0.9703 - val_loss: 1.3742 - val_acc: 0.7070\n",
      "Epoch 86/100\n",
      "20/20 [==============================] - 133s 7s/step - loss: 0.1092 - acc: 0.9668 - val_loss: 0.8017 - val_acc: 0.8320\n",
      "Epoch 87/100\n",
      "20/20 [==============================] - 134s 7s/step - loss: 0.1046 - acc: 0.9715 - val_loss: 0.8680 - val_acc: 0.7969\n",
      "Epoch 88/100\n",
      "20/20 [==============================] - 134s 7s/step - loss: 0.0947 - acc: 0.9746 - val_loss: 0.5737 - val_acc: 0.8750\n",
      "Epoch 89/100\n",
      "20/20 [==============================] - 138s 7s/step - loss: 0.0781 - acc: 0.9762 - val_loss: 0.7834 - val_acc: 0.8438\n",
      "Epoch 90/100\n",
      "20/20 [==============================] - 130s 6s/step - loss: 0.0896 - acc: 0.9742 - val_loss: 2.4417 - val_acc: 0.5664\n",
      "Epoch 91/100\n",
      "20/20 [==============================] - 134s 7s/step - loss: 0.0877 - acc: 0.9777 - val_loss: 0.8166 - val_acc: 0.8555\n",
      "Epoch 92/100\n",
      "20/20 [==============================] - 133s 7s/step - loss: 0.0852 - acc: 0.9770 - val_loss: 2.4921 - val_acc: 0.5508\n",
      "Epoch 93/100\n",
      "20/20 [==============================] - 136s 7s/step - loss: 0.0828 - acc: 0.9773 - val_loss: 0.5795 - val_acc: 0.8945\n",
      "Epoch 94/100\n",
      "20/20 [==============================] - 139s 7s/step - loss: 0.0923 - acc: 0.9723 - val_loss: 0.5555 - val_acc: 0.8555\n",
      "Epoch 95/100\n",
      "20/20 [==============================] - 131s 7s/step - loss: 0.0959 - acc: 0.9707 - val_loss: 1.9934 - val_acc: 0.5664\n",
      "Epoch 96/100\n",
      "20/20 [==============================] - 135s 7s/step - loss: 0.0961 - acc: 0.9715 - val_loss: 1.2365 - val_acc: 0.7383\n",
      "Epoch 97/100\n",
      "20/20 [==============================] - 132s 7s/step - loss: 0.0634 - acc: 0.9840 - val_loss: 0.8074 - val_acc: 0.8477\n",
      "Epoch 98/100\n",
      "Epoch 97/100\n",
      "20/20 [==============================] - 136s 7s/step - loss: 0.0579 - acc: 0.9832 - val_loss: 0.4587 - val_acc: 0.8828\n",
      "Epoch 99/100\n",
      "20/20 [==============================] - 133s 7s/step - loss: 0.0528 - acc: 0.9879 - val_loss: 0.6049 - val_acc: 0.8633\n",
      "Epoch 99/100\n",
      "Epoch 100/100\n",
      "19/20 [===========================>..] - ETA: 6s - loss: 0.0502 - acc: 0.9873 Epoch 100/100\n",
      "20/20 [==============================] - 135s 7s/step - loss: 0.0519 - acc: 0.9871 - val_loss: 0.4898 - val_acc: 0.8906\n"
     ]
    }
   ],
   "source": [
    "# Train model on dataset\n",
    "historyMFCC = parallel_model.fit_generator(generator=training_generator, epochs=100,\n",
    "                    validation_data=validation_generator,\n",
    "                    use_multiprocessing=True,\n",
    "                    workers=10)"
   ]
  },
  {
   "cell_type": "code",
   "execution_count": 106,
   "metadata": {},
   "outputs": [],
   "source": [
    "y_test = []\n",
    "y_pred = []\n",
    "for i in range(len(validation_generator)):\n",
    "    x_test, y_test_ = validation_generator[i]\n",
    "    y_pred_ = parallel_model.predict(x_test)\n",
    "    y_test.append(y_test_.argmax(axis=1))\n",
    "    y_pred.append(y_pred_.argmax(axis=1))\n",
    "y_test = np.concatenate(y_test)\n",
    "y_pred = np.concatenate(y_pred)"
   ]
  },
  {
   "cell_type": "code",
   "execution_count": 107,
   "metadata": {},
   "outputs": [
    {
     "data": {
      "image/png": "[encoded data removed]",
      "text/plain": [
       "<Figure size 432x288 with 2 Axes>"
      ]
     },
     "metadata": {
      "needs_background": "light"
     },
     "output_type": "display_data"
    }
   ],
   "source": [
    "np.set_printoptions(precision=2)\n",
    "\n",
    "# Plot normalized confusion matrix\n",
    "plot_confusion_matrix(y_test, y_pred, classes=classes,\n",
    "                      title='Normalized confusion matrix - MFC Spectrum CNN-LSTM Piano')\n",
    "\n",
    "plt.show()"
   ]
  },
  {
   "cell_type": "code",
   "execution_count": 108,
   "metadata": {},
   "outputs": [
    {
     "data": {
      "image/png": "[encoded data removed]",
      "text/plain": [
       "<Figure size 432x288 with 1 Axes>"
      ]
     },
     "metadata": {
      "needs_background": "light"
     },
     "output_type": "display_data"
    }
   ],
   "source": [
    "# Plot training & validation accuracy values\n",
    "plt.plot(historyMFCC.history['acc'])\n",
    "plt.plot(historyMFCC.history['val_acc'])\n",
    "plt.title('Model accuracy - MFC Spectrum Piano')\n",
    "plt.ylabel('Accuracy')\n",
    "plt.xlabel('Epoch')\n",
    "plt.legend(['Train', 'Validation'], loc='upper left')\n",
    "plt.show()"
   ]
  },
  {
   "cell_type": "code",
   "execution_count": 111,
   "metadata": {},
   "outputs": [
    {
     "data": {
      "image/png": "[encoded data removed]",
      "text/plain": [
       "<Figure size 432x288 with 1 Axes>"
      ]
     },
     "metadata": {
      "needs_background": "light"
     },
     "output_type": "display_data"
    }
   ],
   "source": [
    "# Plot training & validation accuracy values\n",
    "plt.plot(historyMFCC.history['loss'])\n",
    "plt.plot(historyMFCC.history['val_loss'])\n",
    "plt.title('Model loss - MFC Spectrum Piano')\n",
    "plt.ylabel('Loss')\n",
    "plt.xlabel('Epoch')\n",
    "plt.legend(['Train', 'Validation'], loc='upper left')\n",
    "plt.show()"
   ]
  },
  {
   "cell_type": "code",
   "execution_count": 110,
   "metadata": {},
   "outputs": [
    {
     "data": {
      "text/plain": [
       "0.875"
      ]
     },
     "execution_count": 110,
     "metadata": {},
     "output_type": "execute_result"
    }
   ],
   "source": [
    "y_test = []\n",
    "y_pred = []\n",
    "for i in range(len(testing_generator)):\n",
    "    x_test, y_test_ = testing_generator[i]\n",
    "    y_pred_ = parallel_model.predict(x_test)\n",
    "    y_test.append(y_test_.argmax(axis=1))\n",
    "    y_pred.append(y_pred_.argmax(axis=1))\n",
    "y_test = np.concatenate(y_test)\n",
    "y_pred = np.concatenate(y_pred)\n",
    "accuracy_score(y_test,y_pred)"
   ]
  },
  {
   "cell_type": "code",
   "execution_count": 15,
   "metadata": {},
   "outputs": [],
   "source": [
    "from sklearn.metrics import classification_report"
   ]
  },
  {
   "cell_type": "code",
   "execution_count": 118,
   "metadata": {},
   "outputs": [
    {
     "data": {
      "text/plain": [
       "{0: 'Mozart',\n",
       " 1: 'Brahms',\n",
       " 2: 'Faure',\n",
       " 3: 'Beethoven',\n",
       " 4: 'Dvorak',\n",
       " 5: 'Haydn',\n",
       " 6: 'Bach',\n",
       " 7: 'Cambini',\n",
       " 8: 'Schubert',\n",
       " 9: 'Ravel'}"
      ]
     },
     "execution_count": 118,
     "metadata": {},
     "output_type": "execute_result"
    }
   ],
   "source": [
    "classes"
   ]
  },
  {
   "cell_type": "code",
   "execution_count": 121,
   "metadata": {},
   "outputs": [
    {
     "name": "stdout",
     "output_type": "stream",
     "text": [
      "              precision    recall  f1-score   support\n",
      "\n",
      "      Mozart       0.90      1.00      0.95         9\n",
      "      Brahms       1.00      0.85      0.92        13\n",
      "       Faure       0.92      0.92      0.92        13\n",
      "   Beethoven       0.86      0.97      0.91       158\n",
      "        Bach       1.00      0.54      0.70        13\n",
      "    Schubert       0.86      0.62      0.72        50\n",
      "\n",
      "   micro avg       0.88      0.88      0.88       256\n",
      "   macro avg       0.92      0.82      0.85       256\n",
      "weighted avg       0.88      0.88      0.87       256\n",
      "\n"
     ]
    }
   ],
   "source": [
    "print(classification_report(y_test,y_pred,target_names=[classes[i] for i in unique_labels(y_test, y_pred)]))"
   ]
  },
  {
   "cell_type": "code",
   "execution_count": null,
   "metadata": {},
   "outputs": [],
   "source": [
    "parallel_model.save('mfcc_cnn_lstm.hd5')"
   ]
  },
  {
   "cell_type": "code",
   "execution_count": 122,
   "metadata": {},
   "outputs": [],
   "source": [
    "diffIDs = str((trainIDs,valIDs,testIDs))\n",
    "f = open('cnn_lstm_split.txt','w')\n",
    "f.write(diffIDs)\n",
    "f.close()"
   ]
  },
  {
   "cell_type": "code",
   "execution_count": 123,
   "metadata": {},
   "outputs": [
    {
     "data": {
      "text/plain": [
       "'([1884, 3525, 759, 1451, 2422, 1338, 303, 1165, 3334, 4595, 689, 4339, 5653, 3426, 4138, 1699, 2256, 3487, 4778, 762, 1483, 1768, 5181, 3128, 2904, 345, 5467, 2918, 919, 2405, 5335, 3343, 1651, 299, 3629, 3774, 1294, 1324, 5282, 1443, 3735, 2420, 5736, 916, 5062, 2805, 3561, 3727, 1540, 5442, 2620, 1432, 1596, 4960, 2095, 3088, 75, 3318, 2441, 2979, 4180, 2049, 2607, 5473, 3388, 1280, 4318, 624, 3536, 4614, 3565, 1938, 2087, 2745, 485, 3857, 5138, 5937, 982, 5036, 3230, 1410, 5005, 3109, 2806, 4951, 4446, 5233, 1473, 1401, 1727, 3355, 2765, 3985, 1527, 1717, 5521, 2744, 1360, 2017, 4190, 2674, 5647, 3340, 3219, 3879, 3763, 4505, 4124, 1529, 2274, 2997, 2309, 1335, 4764, 2756, 68, 1721, 1186, 3156, 1851, 1197, 3539, 2258, 5659, 344, 2671, 3573, 3107, 5352, 2917, 5890, 1202, 3523, 1450, 3177, 3981, 5077, 2170, 3149, 719, 4148, 5061, 5141, 3183, 5274, 5968, 2526, 1219, 2409, 3111, 4900, 1411, 5078, 3265, 5342, 884, 2330, 2439, 1341, 3126, 4954, 3795, 3739, 3975, 823, 5270, 3672, 2276, 1356, 3430, 571, 3874, 5530, 4464, 3669, 5574, 1426, 1797, 3594, 3730, 1274, 5345, 3223, 2400, 2412, 1080, 1415, 4810, 5747, 4972, 4842, 310, 1523, 3277, 400, 1535, 3696, 730, 2597, 2270, 4822, 2605, 3719, 2750, 2272, 3437, 4830, 3773, 1299, 5938, 1454, 5743, 5535, 1796, 2809, 4155, 3860, 3158, 2394, 4121, 1617, 3262, 1268, 3225, 3119, 1152, 3728, 1242, 1663, 1830, 4274, 5548, 4156, 296, 1464, 2388, 1519, 4330, 2322, 2159, 3871, 5665, 5788, 4316, 5513, 2613, 871, 3399, 4817, 443, 1774, 5881, 4860, 3634, 305, 1538, 1785, 3560, 3235, 4443, 5886, 465, 1234, 815, 1543, 4312, 2988, 1779, 2180, 829, 3148, 1285, 4018, 5462, 297, 486, 2771, 1172, 5237, 5542, 5057, 3505, 1269, 3555, 5582, 3558, 5460, 60, 1839, 1592, 5149, 3673, 1070, 1404, 5585, 1355, 2738, 1675, 5830, 2794, 2972, 4609, 2792, 1953, 2266, 2411, 1881, 2327, 2085, 1591, 4621, 1935, 1270, 1307, 879, 2538, 657, 2748, 5131, 5446, 1845, 3702, 5285, 4229, 5453, 2425, 302, 5027, 5164, 5041, 3092, 3403, 5566, 5737, 293, 852, 5785, 1230, 3554, 2913, 1730, 5004, 5075, 3397, 2372, 683, 328, 920, 1088, 5470, 5234, 4744, 3677, 5551, 725, 4616, 903, 1653, 1495, 2273, 5885, 4837, 307, 973, 2100, 3186, 5321, 2965, 1425, 319, 1381, 4347, 5520, 5884, 4922, 2304, 877, 1650, 3869, 724, 2992, 4599, 3542, 859, 4967, 5010, 2517, 5188, 1320, 442, 1221, 3747, 1059, 4136, 3866, 1156, 2993, 3326, 4345, 3682, 3150, 2798, 1893, 917, 5047, 1357, 4761, 1393, 3563, 4757, 1493, 2848, 2137, 5190, 1772, 1161, 4741, 3116, 1105, 5030, 2268, 2767, 4846, 5033, 5752, 4618, 1818, 3390, 630, 1300, 5117, 3332, 3532, 3535, 2694, 5458, 1681, 2518, 4019, 1354, 1690, 836, 2319, 3736, 821, 2279, 1950, 2035, 1497, 1490, 581, 2967, 1084, 4915, 3331, 4970, 3596, 1110, 2614, 278, 1409, 578, 1703, 5733, 2277, 3394, 3593, 4770, 882, 315, 5327, 5876, 2728, 5568, 1043, 5222, 3656, 5178, 1775, 3533, 817, 1701, 3087, 3228, 769, 3680, 1379, 4322, 3179, 2773, 1476, 3360, 1364, 1265, 3670, 2760, 493, 1058, 1491, 5893, 1795, 778, 4808, 2920, 1472, 4337, 3858, 1374, 1096, 1316, 1967, 722, 4858, 1331, 3978, 5669, 855, 1066, 1677, 4341, 1395, 5267, 1782, 2390, 3597, 3184, 2532, 2881, 500, 2419, 4327, 5193, 1428, 2140, 1185, 2153, 3668, 457, 5126, 5262, 269, 335, 5106, 4162, 5120, 1593, 2896, 1477, 1315, 3502, 3278, 2283, 4626, 2305, 1600, 1948, 2803, 5351, 1466, 2763, 2782, 3493, 3155, 3217, 869, 1396, 3358, 274, 504, 2735, 1153, 1658, 2275, 5545, 2539, 2791, 3589, 4820, 1520, 4838, 5195, 5748, 4812, 3387, 264, 1725, 2845, 818, 4590, 4158, 4948, 1821, 512, 2986, 4127, 4624, 4483, 3104, 3733, 5554, 5236, 1309, 4439, 1212, 3974, 2609, 5517, 1465, 3754, 3224, 2429, 1601, 1229, 2872, 4773, 2336, 1184, 1398, 498, 4021, 1246, 434, 850, 3366, 570, 2542, 5074, 1210, 76, 1614, 1467, 4742, 5432, 3240, 4777, 2786, 1946, 2669, 4157, 5505, 4596, 2520, 5722, 1328, 5532, 5584, 5739, 5738, 1106, 2088, 1777, 2879, 1240, 5791, 3864, 1275, 1676, 5478, 1104, 5570, 3329, 2776, 4326, 270, 824, 2048, 4438, 968, 3354, 4845, 2530, 3093, 5229, 3659, 3707, 5592, 2668, 3408, 1109, 1679, 5135, 3637, 4231, 4804, 1346, 331, 2964, 3391, 3102, 2612, 983, 4780, 2489, 4811, 5324, 4278, 3971, 4633, 1533, 5071, 3564, 4902, 4332, 3492, 3856, 5192, 1228, 5682, 1715, 2606, 854, 3496, 3324, 2265, 503, 5068, 1055, 1943, 2041, 268, 5779, 5060, 2875, 5340, 1811, 3572, 2984, 2052, 2603, 4818, 990, 2365, 580, 1960, 2778, 4506, 1375, 5824, 3712, 1406, 2900, 1062, 1709, 1094, 4160, 1891, 4192, 5873, 3753, 275, 5591, 972, 2444, 3231, 4311, 3232, 720, 4601, 2683, 5475, 501, 1214, 3226, 5139, 2475, 1082, 2911, 3425, 3124, 2596, 2155, 513, 4839, 5476, 909, 975, 4119, 2374, 3590, 1167, 4510, 1819, 3751, 1267, 4962, 5137, 2046, 3752, 5672, 830, 2413, 3314, 1895, 3759, 1478, 1486, 3012, 5511, 3551, 4126, 2311, 5742, 511, 5724, 632, 2882, 5661, 1313, 1440, 1377, 4844, 5238, 976, 5878, 1074, 3711, 1594, 2146, 3137, 4167, 4342, 1765, 1613, 2617, 3534, 4615, 3267, 773, 2423, 4323, 4841, 1095, 4137, 1769, 3640, 5581, 2808, 2157, 3568, 3797, 3693, 1767, 1759, 5144, 3327, 5684, 1195, 1607, 2793, 2410, 4783, 864, 5966, 1363, 1846, 3086, 5575, 4856, 4821, 5194, 4868, 1168, 2664, 2734, 2338, 3556, 347, 1841, 4978, 1654, 2975, 5283, 3855, 1682, 5483, 5136, 1217, 338, 281, 4813, 3878, 3624, 5266, 1050, 3768, 1414, 2083, 1605, 3136, 1183, 2686, 5735, 4832, 2097, 2267, 1163, 4340, 2317, 5877, 3544, 267, 4871, 5590, 1306, 780, 5431, 1392, 3762, 4831, 440, 4622, 3501, 1044, 5589, 4904, 44, 3639, 1455, 4865, 1834, 5160, 1537, 3316, 3392, 4122, 1610, 58, 1199, 3691, 3357, 1786, 5667, 5210, 1678, 851, 1233, 5326, 3185, 4977, 3991, 285, 301, 3623, 2050, 1810, 446, 3992, 843, 1076, 2284, 967, 4161, 3115, 1660, 4333, 4499, 5207, 1898, 2878, 1047, 5579, 1500, 2154, 1848, 1820, 5657, 3427, 5182, 1244, 4176, 340, 1526, 1957, 5348, 5883, 4855, 5456, 4437, 5434, 1812, 4429, 4020, 4828, 3436, 3548, 2364, 2919, 4911, 3734, 5112, 2342, 5459, 4225, 582, 1434, 728, 1223, 5518, 1816, 820, 5021, 5175, 1429, 2316, 3683, 910, 927, 2810, 5745, 4864, 1287, 3798, 4334, 2688, 1825, 3694, 1439, 1459, 5127, 723, 4772, 1231, 2054, 5105, 5140, 902, 4605, 3687, 988, 5818, 2415, 4594, 834, 1829, 1826, 4870, 1722, 2042, 569, 1155, 1662, 2056, 3586, 1092, 4920, 5009, 5064, 4336, 1522, 5430, 5831, 3638, 3175, 1159, 2047, 4787, 4432, 3323, 3312, 4901, 1431, 314, 3127, 3443, 5023, 2320, 2301, 1057, 3369, 5158, 495, 3708, 5155, 3344, 341, 2677, 832, 2742, 4745, 2378, 2689, 4760, 4125, 867, 4163, 2381, 1484, 1447, 5328, 4617, 677, 1888, 4771, 1107, 4325, 4313, 2780, 1832, 3633, 3216, 2377, 2312, 686, 4279, 5183, 2150, 1849, 4974, 277, 1296, 1835, 2166, 5652, 2893, 3259, 509, 1882, 3570, 2310, 3726, 3859, 4511, 3488, 2434, 1942, 1838, 5162, 5148, 1325, 2147, 1366, 5750, 985, 841, 5350, 5945, 2314, 1162, 5939, 5479, 1201, 4145, 3276, 4853, 1097, 1417, 432, 2094, 5675, 5349, 4975, 5011, 1209, 3662, 2781, 1956, 1362, 4950, 1351, 3091, 5829, 2044, 2187, 5185, 1322, 5031, 5892, 2891, 2681, 3685, 2175, 1196, 5815, 1780, 777, 1541, 3706, 981, 3679, 5468, 3227, 3090, 1901, 5646, 5576, 5580, 2259, 2039, 4150, 2812, 1757, 1941, 4634, 5163, 3553, 627, 3698, 4919, 4501, 1174, 881, 3147, 5816, 3723, 847, 3335, 835, 2732, 2672, 5273, 923, 3112, 1303, 4508, 2844, 4118, 3439, 3872, 5133, 3215, 2036, 3636, 4600, 3520, 3537, 4128, 4766, 3146, 2602, 4173, 349, 3630, 2098, 4851, 3695, 3854, 2102, 4968, 729, 5537, 3004, 4270, 318, 1852, 5567, 304, 1666, 5080, 4134, 4916, 1292, 4914, 1248, 5109, 5227, 4619, 863, 845, 2667, 1604, 2873, 2594, 5197, 2408, 2332, 332, 3239, 4610, 2486, 5447, 5729, 660, 5546, 5038, 1048, 452, 876, 1405, 5025, 1776, 4961, 5146, 5043, 1489, 5588, 865, 4461, 3266, 5944, 1608, 1194, 5076, 436, 1281, 5161, 2307, 1665, 3595, 3765, 4324, 1389, 4866, 5354, 1599, 2971, 1334, 849, 1705, 350, 3130, 5670, 5663, 5017, 2680, 5642, 2343, 337, 5153, 4835, 5201, 2334, 4154, 2755, 5451, 3313, 2376, 1352, 3321, 4442, 2969, 3009, 858, 1224, 2515, 1273, 1079, 77, 5280, 1761, 3178, 1180, 726, 311, 2384, 3485, 5658, 5037, 5508, 5007, 977, 2190, 2186, 1448, 4465, 1378, 2966, 3134, 1518, 5122, 1298, 1680, 4132, 1198, 2916, 4174, 2995, 1288, 4957, 993, 1963, 5666, 3236, 5783, 5055, 4131, 3013, 5882, 3852, 4485, 5655, 4781, 348, 1060, 1719, 3347, 1435, 5145, 1683, 5787, 904, 276, 5725, 3176, 2970, 2152, 2399, 4230, 661, 1770, 5471, 2989, 42, 5353, 5110, 5673, 5121, 438, 1890, 2136, 4629, 3489, 2315, 5170, 1712, 2981, 260, 4861, 2991, 5662, 2524, 5436, 2401, 3310, 1193, 1697, 4836, 5058, 43, 634, 1686, 732, 3742, 2286, 1402, 3755, 5125, 1530, 4823, 3393, 1944, 4171, 5544, 5235, 1815, 926, 5205, 5022, 658, 2476, 3105, 3484, 3106, 2743, 5469, 2371, 46, 5583, 2437, 772, 1823, 4959, 441, 1247, 3982, 1271, 5003, 329, 3738, 1243, 502, 1319, 1521, 3320, 1063, 4807, 4436, 4186, 828, 1714, 1071, 261, 2337, 1042, 295, 1940, 1317, 3190, 2262, 516, 1348, 2897, 4169, 3700, 461, 5108, 5485, 771, 1843, 5643, 5013, 5465, 5578, 5569, 4120, 1220, 1412, 1321, 1445, 3500, 1902, 306, 4903, 2974, 5012, 2345, 3862, 1840, 3241, 3172, 3585, 430, 1286, 1054, 1723, 3341, 5129, 4597, 1207, 5477, 626, 2418, 3764, 2424, 5560, 4805, 4181, 1391, 2306, 4827, 2051, 2898, 3690, 2435, 333, 1595, 3732, 3980, 1399, 1343, 2382, 1460, 2661, 2387, 4620, 831, 5226, 2739, 3007, 1452, 2914, 883, 3346, 5187, 487, 1361, 4921, 1731, 1365, 2777, 1904, 3658, 5571, 325, 1239, 1081, 2020, 2172, 4604, 3973, 294, 3089, 2990, 2053, 3641, 3434, 4806, 3724, 3530, 52, 4924, 4758, 3118, 2730, 3122, 1817, 2386, 3867, 3566, 4509, 5718, 4591, 5039, 431, 3868, 5457, 5474, 1413, 1771, 5561, 5204, 1350, 4809, 4273, 435, 5336, 3749, 5019, 1326, 3678, 2428, 5355, 3309, 2403, 3404, 1382, 1332, 2754, 2349, 860, 1049, 2905, 3527, 4275, 5048, 3349, 64, 4630, 5668, 316, 2487, 2107, 279, 589, 3275, 2402, 3270, 3772, 3431, 272, 63, 157, 5943, 1276, 5645, 4826, 70, 1661, 979, 721, 1380, 4909, 1896, 1763, 1833, 2015, 1889, 1278, 49, 5481, 351, 3688, 5889, 1684, 2173, 2604, 868, 4482, 2177, 2149, 5874, 2595, 1669, 2747, 5123, 313, 4623, 2815, 1671, 2373, 4847, 2749, 3339, 5073, 3882, 265, 4769, 991, 1416, 1266, 4598, 3144, 4310, 3117, 3152, 2104, 5018, 3440, 5344, 1225, 3273, 4611, 3098, 2096, 2145, 3562, 2901, 5172, 2261, 3272, 911, 2733, 451, 3987, 1531, 924, 4834, 4467, 5029, 842, 2785, 3189, 1100, 1672, 69, 5967, 5166, 1652, 4966, 2757, 3113, 733, 5484, 3213, 2523, 3482, 3330, 3322, 1423, 880, 846, 1900, 4335, 1837, 3143, 2907, 402, 5486, 4949, 5504, 5450, 4849, 1293, 4123, 915, 3410, 3359, 2884, 4964, 2673, 586, 5275, 3121, 5325, 5717, 5723, 5640, 4430, 572, 574, 324, 4232, 4587, 2034, 67, 2540, 2529, 3631, 1463, 1166, 2174, 775, 1485, 1045, 4466, 3549, 2899, 2909, 2528, 2685, 2817, 4635, 1470, 1323, 3479, 2787, 1961, 1169, 1824, 680, 3989, 779, 2379, 1603, 579, 3625, 1966, 1177, 5664, 776, 2973, 2426, 3361, 2741, 3433, 2348, 5067, 5731, 3095, 1885, 3655, 3405, 3507, 45, 5167, 5332, 4140, 5339, 1430, 2534, 1456, 1173, 2257, 5565, 3174, 1078, 914, 317, 1892, 2751, 3506, 4187, 3352, 1061, 1691, 1154, 5154, 5538, 3675, 3497, 3756, 2398, 5341, 1102, 4484, 1388, 2407, 522, 5716, 2037, 3389, 4179, 4872, 4440, 5322, 3986, 1903, 321, 3743, 2903, 2368, 2807, 5654, 5343, 3588, 5822, 448, 2433, 4320, 3777, 1390, 4912, 3173, 912, 5503, 2143, 2188, 3003, 4497, 439, 3731, 57, 969, 5963, 4775, 2484, 5269, 872, 3697, 3494, 1461, 3665, 1711, 4869, 2779, 1424, 1789, 4470, 1707, 497, 1959, 1659, 3011, 1842, 2921, 5563, 1758, 2676, 4175, 5964, 488, 3308, 5651, 2790, 874, 5111, 3567, 1091, 5279, 4759, 886, 688, 4829, 1336, 3873, 5539, 4814, 5173, 1408, 875, 2616, 5132, 2391, 1720, 2846, 5510, 1700, 3362, 1329, 5171, 3480, 3521, 1203, 5225, 3006, 2032, 5209, 4976, 4226, 3008, 1305, 2183, 3626, 4923, 4272, 3972, 287, 2811, 74, 3333, 3315, 5674, 2796, 1698, 1828, 5971, 3880, 1844, 3395, 4785, 353, 3671, 2693, 5281, 489, 2887, 1222, 629, 5573, 2752, 3664, 4165, 1673, 4269, 2968, 2768, 5593, 56, 5726, 2892, 908, 2485, 2525, 5069, 5509, 4907, 1068, 5065, 5814, 3870, 4434, 1442, 312, 3767, 1897, 3180, 3214, 2099, 4918, 79, 1190, 1850, 4593, 767, 5176, 2318, 3182, 1814, 4502, 1283, 899, 5941, 4632, 3746, 3142, 4178, 2168, 994, 3238, 4768, 336, 3307, 2366, 1457, 5435, 3498, 1192, 1713, 3125, 1236, 4147, 1310, 5790, 889, 731, 2285, 2477, 1065, 3770, 5104, 825, 5228, 515, 4343, 4963, 5168, 78, 5050, 286, 2519, 1372, 5516, 3191, 2344, 4315, 343, 3336, 4905, 4139, 3154, 4852, 1602, 507, 4468, 499, 5455, 5049, 4958, 5445, 5789, 5165, 819, 3853, 2784, 2478, 3351, 2392, 1822, 71, 284, 4149, 5529, 1496, 2983, 2982, 3979, 2263, 3435, 3368, 814, 5553, 2801, 1383, 862, 1090, 5177, 3141, 2775, 5507, 2876, 1438, 3674, 1504, 2814, 3319, 2440, 2169, 5676, 3661, 5506, 4603, 1347, 1211, 1342, 4129, 1403, 1475, 687, 2335, 3710, 463, 3140, 2740, 2795, 2255, 2370, 1421, 2321, 1947, 2269, 2389, 320, 1394, 5054, 1304, 5174, 5208, 2430, 4867, 1208, 838, 2541, 1340, 4816, 2679, 1444, 1945, 2535, 2692, 5549, 5191, 625, 2729, 4925, 2976, 5965, 4328, 3757, 3689, 1952, 1064, 5515, 3145, 984, 5014, 1301, 4277, 1237, 2432, 491, 1612, 1664, 5562, 273, 1696, 5681, 763, 5020, 2404, 5015, 1458, 5891, 4227, 518, 2789, 5198, 346, 4503, 1694, 2851, 3483, 2158, 5754, 2522, 55, 3545, 4276, 1189, 3263, 3353, 1674, 5329, 1716, 1798, 2178, 3345, 4185, 3528, 5052, 4233, 1200, 3218, 1046, 4184, 2282, 506, 54, 4631, 587, 3441, 1962, 1297, 5649, 1474, 1312, 2619, 3348, 1101, 5534, 3123, 4965, 3406, 3481, 3274, 2799, 2139, 4349, 3423, 1539, 4782, 2527, 4191, 4606, 3016, 734, 2176, 2303, 3096, 995, 3367, 1692, 3396, 1158, 2889, 2260, 2977, 437, 5744, 2103, 455, 2350, 1524, 2264, 992, 2998, 3261, 5438, 1103, 1370, 1327, 1290, 5206, 5032, 2479, 401, 2105, 978, 3002, 1371, 5564, 1471, 4952, 1760, 2393, 656, 929, 5466, 3861, 5826, 3684, 1728, 5480, 760, 2138, 5179, 2847, 492, 2091, 3211, 5042, 5199, 5130, 5338, 4767, 3422, 5740, 5540, 1955, 2179, 323, 3717, 4172, 1433, 2395, 633, 5887, 1488, 5448, 2514, 65, 262, 5572, 1836, 989, 1291, 1087, 2396, 3120, 1245, 4331, 1191, 5449, 1333, 1809, 1887, 2516, 3699, 4170, 2736, 585, 51, 4151, 5502, 3409, 1964, 866, 322, 4956, 3522, 3242, 1792, 659, 2843, 2483, 3325, 2436, 2611, 4765, 5547, 330, 62, 458, 5441, 61, 5528, 3587, 3686, 5028, 3442, 1053, 5577, 2055, 4854, 3771, 1449, 1385, 583, 3692, 4589, 4969, 3337, 3108, 3758, 5543, 3000, 2987, 5002, 2999, 1968, 1376, 1170, 4859, 4955, 2092, 3221, 584, 1073, 5337, 1369, 4338, 1883, 3490, 856, 450, 3129, 5677, 5586, 5734, 5464, 2375, 3540, 2818, 3722, 4321, 309, 3133, 4133, 2783, 2308, 4913, 5443, 833, 2731, 3132, 5001, 5526, 5817, 1532, 1093, 447, 3364, 4441, 3990, 2421, 2761, 3666, 1542, 4344, 2910, 4973, 1272, 1330, 675, 2482, 5531, 5433, 4607, 826, 5730, 2985, 5559, 5482, 3863, 1206, 80, 5781, 3745, 2325, 3486, 3131, 4613, 280, 970, 4431, 444, 5782, 5821, 1502, 5969, 5678, 3365, 764, 2302, 1160, 4971, 1783, 1349, 1187, 4188, 2280, 3976, 4833, 5519, 1215, 271, 1536, 5347, 844, 1616, 1368, 2670, 3575, 2414, 1176, 3424, 2886, 4500, 2902, 4843, 577, 3271, 2347, 986, 3721, 848, 521, 5648, 5118, 2090, 2610, 2684, 1688, 2141, 1446, 5232, 5200, 5558, 676, 3571, 5935, 3338, 5746, 2171, 3701, 510, 2687, 4462, 3264, 2323, 1685, 1051, 50, 2615, 3557, 5440, 2182, 5357, 454, 1241, 5594, 1773, 4271, 5749, 3005, 4319, 4776, 5151, 1318, 1339, 2148, 4825, 3504, 3524, 3407, 2908, 5157, 5536, 5046, 5278, 4874, 3526, 2618, 3704, 1420, 1468, 1302, 3676, 1969, 2406, 905, 4824, 1232, 5880, 1939, 5070], [48, 53, 59, 73, 158, 159, 263, 283, 298, 300, 327, 334, 342, 433, 445, 449, 453, 459, 462, 464, 494, 496, 505, 514, 517, 520, 573, 588, 631, 678, 682, 684, 685, 761, 768, 822, 837, 839, 853, 857, 861, 887, 900, 901, 906, 918, 921, 922, 930, 966, 980, 987, 1069, 1072, 1075, 1085, 1089, 1098, 1157, 1164, 1171, 1178, 1179, 1188, 1205, 1227, 1235, 1277, 1279, 1282, 1284, 1308, 1311, 1337, 1373, 1384, 1386, 1387, 1419, 1422, 1436, 1441, 1462, 1469, 1479, 1480, 1482, 1487, 1492, 1494, 1501, 1503, 1525, 1597, 1611, 1657, 1667, 1668, 1689, 1702, 1704, 1724, 1762, 1764, 1766, 1781, 1787, 1788, 1790, 1793, 1813, 1847, 1853, 1854, 1879, 1880, 1886, 1899, 1934, 1949, 1951, 1954, 1965, 2016, 2031, 2033, 2038, 2040, 2045, 2086, 2089, 2093, 2101, 2106, 2184, 2185, 2254, 2271, 2313, 2324, 2326, 2328, 2329, 2333, 2341, 2346, 2369, 2380, 2385, 2417, 2438, 2442, 2443, 2481, 2488, 2521, 2531, 2533, 2537, 2608, 2663, 2682, 2737, 2753, 2758, 2766, 2769, 2770, 2772, 2774, 2797, 2802, 2813, 2842, 2874, 2880, 2883, 2885, 2894, 2895, 2915, 2978, 2980, 3010, 3014, 3094, 3097, 3099, 3139, 3157, 3181, 3220, 3233, 3234, 3243, 3260, 3268, 3269, 3328, 3386, 3401, 3428, 3495, 3541, 3546, 3550, 3574, 3591, 3621, 3628, 3632, 3657, 3667, 3681, 3705, 3709, 3714, 3715, 3716, 3720, 3725, 3740, 3750, 3761, 3796, 3875, 3877, 3984, 4135, 4141, 4142, 4143, 4144, 4152, 4159, 4168, 4182, 4183, 4189, 4314, 4329, 4350, 4444, 4447, 4463, 4469, 4498, 4588, 4602, 4608, 4612, 4762, 4786, 4815, 4840, 4857, 4873, 4906, 4917, 4947, 5024, 5035, 5040, 5044, 5053, 5056, 5066, 5072, 5113, 5114, 5115, 5116, 5119, 5124, 5128, 5134, 5142, 5143, 5147, 5156, 5180, 5184, 5196, 5230, 5231, 5239, 5240, 5268, 5276, 5277, 5284, 5323, 5333, 5334, 5356, 5461, 5472, 5523, 5524, 5525, 5527, 5533, 5541, 5552, 5556, 5644, 5650, 5656, 5679, 5683, 5721, 5728, 5732, 5741, 5751, 5753, 5780, 5813, 5819, 5820, 5828, 5875, 5879, 5888, 5940, 5970], [3114, 3311, 3592, 519, 3356, 774, 3110, 5557, 460, 1182, 3317, 5203, 3400, 1056, 5063, 2397, 5008, 3538, 1108, 2675, 5587, 1437, 5026, 5265, 4445, 4953, 3988, 2416, 2151, 2764, 5079, 5720, 47, 5463, 5727, 4908, 3188, 3477, 5107, 5150, 1216, 5522, 974, 3103, 5755, 1083, 758, 282, 3503, 3229, 3776, 4130, 1778, 508, 3429, 885, 3703, 3569, 1656, 326, 4234, 5823, 765, 3543, 1971, 4862, 1710, 1729, 3135, 3718, 1397, 2662, 1481, 2800, 827, 576, 1238, 4435, 3983, 2691, 3622, 490, 2996, 4235, 1528, 1609, 3342, 766, 888, 5514, 3001, 5331, 5942, 2018, 2678, 1359, 5827, 3015, 1067, 2600, 3729, 352, 2665, 3635, 4779, 3491, 1827, 3744, 2427, 3100, 1534, 1181, 913, 1226, 2666, 5660, 3237, 2167, 4848, 727, 3876, 5051, 3101, 3547, 1708, 1655, 2912, 399, 4348, 1784, 878, 308, 3660, 2383, 1204, 4228, 5034, 5444, 4819, 4763, 5550, 1367, 5169, 3432, 4146, 2281, 5159, 2906, 2601, 1400, 1970, 1791, 1289, 770, 1345, 2849, 1831, 2084, 3138, 2278, 718, 5641, 3531, 681, 4022, 3865, 5263, 5045, 5936, 1358, 925, 4280, 2690, 4910, 1687, 2156, 4166, 1615, 5152, 2762, 2480, 3977, 2888, 3151, 3881, 1344, 5439, 1353, 456, 4317, 3713, 1606, 3478, 4784, 2877, 4863, 3187, 266, 1894, 1670, 5719, 3153, 3222, 1695, 4627, 4850, 2331, 907, 5006, 4177, 5512, 339, 3438, 1498, 5186, 4756, 2746, 4153, 1086, 1958, 1693, 816, 5286, 1314, 3748, 1598, 3663, 2816, 873, 5786, 3552, 5223, 1099, 4164, 66, 4628, 3402, 679, 5555, 1706, 1718, 628, 1936, 5454, 1427, 4346, 2431, 3559, 870, 4743, 3363, 2788, 2994, 1794, 2850, 575, 2804, 5224, 1937, 2181, 5264, 971, 4592, 1418, 928, 5825, 3775, 2142, 5189, 840, 5452, 5437, 5784, 4433, 1407, 4625, 2043, 1618, 2363, 2019, 5330, 5059, 72, 2339, 3760, 5671, 1499, 2890, 2598, 5346, 4507, 1218, 2189, 3769, 3851, 1453, 2144, 3398, 1077, 5016, 1213, 3850, 2340, 5680, 5272, 1052, 1175, 1726, 4193, 4504, 3741, 2759, 1295, 3350, 3499, 2536, 2599, 2367, 3212, 5202, 4774, 3627, 3529, 3737, 5271, 3766])'"
      ]
     },
     "execution_count": 123,
     "metadata": {},
     "output_type": "execute_result"
    }
   ],
   "source": [
    "diffIDs"
   ]
  },
  {
   "cell_type": "markdown",
   "metadata": {},
   "source": [
    "Second model - cropped image"
   ]
  },
  {
   "cell_type": "code",
   "execution_count": 16,
   "metadata": {},
   "outputs": [],
   "source": [
    "# Parameters\n",
    "params = {'dim': (883,233),\n",
    "          'batch_size': 128,\n",
    "          'n_classes': num_classes,\n",
    "          'n_channels': 1,\n",
    "          'shuffle': True}\n",
    "\n",
    "\n",
    "\n",
    "# Generators\n",
    "training_generator = STFTDataGenerator(partition['train'], labels, **params)\n",
    "validation_generator = STFTDataGenerator(partition['validation'], labels, **params)\n",
    "testing_generator = STFTDataGenerator(partition['test'], labels, **params)"
   ]
  },
  {
   "cell_type": "code",
   "execution_count": 22,
   "metadata": {},
   "outputs": [],
   "source": [
    "# Design model\n",
    "\n",
    "with tf.device('/cpu:0'):\n",
    "    model = Sequential()\n",
    "\n",
    "    model.add(Conv2D(16, (16, 8), input_shape = (883, 233, 1), activation='relu'))\n",
    "    model.add(MaxPooling2D(pool_size=(4, 2)))\n",
    "    model.add(BatchNormalization())\n",
    "    model.add(Dropout(.3))\n",
    "\n",
    "    model.add(Conv2D(16, (16, 8), activation='relu'))\n",
    "    model.add(MaxPooling2D(pool_size=(4, 2)))\n",
    "    model.add(BatchNormalization())\n",
    "    model.add(Dropout(.3))\n",
    "\n",
    "    model.add(Conv2D(16, (16, 8), activation='relu'))\n",
    "    model.add(MaxPooling2D(pool_size=(4, 2)))\n",
    "    model.add(BatchNormalization())\n",
    "\n",
    "    model.add(Reshape([8,23*16]))\n",
    "\n",
    "    model.add(LSTM(num_classes, return_sequences=True))\n",
    "    model.add(Dropout(.3))\n",
    "    model.add(LSTM(num_classes))\n",
    "\n",
    "    model.add(Dense(num_classes))\n",
    "    model.add(Dropout(.1))\n",
    "    model.add(Dense(num_classes, activation='softmax'))\n",
    "\n",
    "    model.compile(loss='categorical_crossentropy', metrics=['acc'], optimizer='adam')\n",
    "\n",
    "parallel_model = multi_gpu_model(model, gpus=4)\n",
    "parallel_model.compile(loss='categorical_crossentropy',\n",
    "                       metrics=['acc'], optimizer='adam')"
   ]
  },
  {
   "cell_type": "code",
   "execution_count": 23,
   "metadata": {
    "scrolled": true
   },
   "outputs": [
    {
     "name": "stdout",
     "output_type": "stream",
     "text": [
      "Epoch 1/100\n",
      "20/20 [==============================] - 188s 9s/step - loss: 1.9071 - acc: 0.5375 - val_loss: 1.7096 - val_acc: 0.5859\n",
      "Epoch 2/100\n",
      "20/20 [==============================] - 109s 5s/step - loss: 1.6077 - acc: 0.5793 - val_loss: 1.4452 - val_acc: 0.5742\n",
      "Epoch 3/100\n",
      "20/20 [==============================] - 107s 5s/step - loss: 1.3855 - acc: 0.5840 - val_loss: 1.2116 - val_acc: 0.6094\n",
      "Epoch 4/100\n",
      "20/20 [==============================] - 110s 5s/step - loss: 1.2512 - acc: 0.5930 - val_loss: 1.2327 - val_acc: 0.5859\n",
      "Epoch 5/100\n",
      "20/20 [==============================] - 108s 5s/step - loss: 1.1832 - acc: 0.5902 - val_loss: 1.1859 - val_acc: 0.5898\n",
      "Epoch 6/100\n",
      "20/20 [==============================] - 112s 6s/step - loss: 1.1149 - acc: 0.6051 - val_loss: 1.2170 - val_acc: 0.5703\n",
      "Epoch 7/100\n",
      "20/20 [==============================] - 111s 6s/step - loss: 1.1186 - acc: 0.6074 - val_loss: 1.0742 - val_acc: 0.6367\n",
      "Epoch 8/100\n",
      "20/20 [==============================] - 116s 6s/step - loss: 1.0706 - acc: 0.6066 - val_loss: 1.4651 - val_acc: 0.3984\n",
      "Epoch 9/100\n",
      "19/20 [===========================>..] - ETA: 5s - loss: 1.0135 - acc: 0.6242 - ETA: 47s - loss: 1.02Epoch 9/100\n",
      "20/20 [==============================] - 109s 5s/step - loss: 1.0154 - acc: 0.6215 - val_loss: 0.9704 - val_acc: 0.6562\n",
      "Epoch 10/100\n",
      "20/20 [==============================] - 111s 6s/step - loss: 0.9657 - acc: 0.6395 - val_loss: 1.7217 - val_acc: 0.2969\n",
      "Epoch 11/100\n",
      "20/20 [==============================] - 106s 5s/step - loss: 0.9298 - acc: 0.6523 - val_loss: 1.8174 - val_acc: 0.3203\n",
      "Epoch 12/100\n",
      "20/20 [==============================] - 114s 6s/step - loss: 0.9058 - acc: 0.6516 - val_loss: 1.0780 - val_acc: 0.4844\n",
      "Epoch 13/100\n",
      "20/20 [==============================] - 112s 6s/step - loss: 0.8582 - acc: 0.6863 - val_loss: 0.9939 - val_acc: 0.6641\n",
      "Epoch 14/100\n",
      "20/20 [==============================] - 109s 5s/step - loss: 0.8487 - acc: 0.6805 - val_loss: 0.8534 - val_acc: 0.7031\n",
      "Epoch 15/100\n",
      "20/20 [==============================] - 117s 6s/step - loss: 0.7943 - acc: 0.7051 - val_loss: 0.9517 - val_acc: 0.6914\n",
      "Epoch 16/100\n",
      "20/20 [==============================] - 109s 5s/step - loss: 0.7801 - acc: 0.7008 - val_loss: 1.2619 - val_acc: 0.4883\n",
      "Epoch 17/100\n",
      "20/20 [==============================] - 107s 5s/step - loss: 0.7497 - acc: 0.7016 - val_loss: 0.7366 - val_acc: 0.7461\n",
      "Epoch 18/100\n",
      "20/20 [==============================] - 115s 6s/step - loss: 0.7090 - acc: 0.7312 - val_loss: 1.0946 - val_acc: 0.5273\n",
      "Epoch 19/100\n",
      "20/20 [==============================] - 113s 6s/step - loss: 0.6888 - acc: 0.7363 - val_loss: 0.7745 - val_acc: 0.6914\n",
      "Epoch 20/100\n",
      "20/20 [==============================] - 118s 6s/step - loss: 0.6575 - acc: 0.7449 - val_loss: 0.8959 - val_acc: 0.6953\n",
      "Epoch 21/100\n",
      "20/20 [==============================] - 111s 6s/step - loss: 0.6357 - acc: 0.7516 - val_loss: 0.8597 - val_acc: 0.6797\n",
      "Epoch 22/100\n",
      "20/20 [==============================] - 108s 5s/step - loss: 0.5921 - acc: 0.7707 - val_loss: 0.7096 - val_acc: 0.7500\n",
      "Epoch 23/100\n",
      "20/20 [==============================] - 112s 6s/step - loss: 0.5967 - acc: 0.7691 - val_loss: 1.9984 - val_acc: 0.3203\n",
      "Epoch 24/100\n",
      "20/20 [==============================] - 110s 6s/step - loss: 0.5746 - acc: 0.7676 - val_loss: 0.7523 - val_acc: 0.6758\n",
      "Epoch 25/100\n",
      "20/20 [==============================] - 119s 6s/step - loss: 0.5187 - acc: 0.7922 - val_loss: 0.7458 - val_acc: 0.7305\n",
      "Epoch 26/100\n",
      "20/20 [==============================] - 110s 6s/step - loss: 0.4594 - acc: 0.8086 - val_loss: 1.3017 - val_acc: 0.5156\n",
      "Epoch 27/100\n",
      "20/20 [==============================] - 108s 5s/step - loss: 0.4272 - acc: 0.8215 - val_loss: 1.6648 - val_acc: 0.4414\n",
      "Epoch 28/100\n",
      "20/20 [==============================] - 118s 6s/step - loss: 0.4131 - acc: 0.8340 - val_loss: 2.1974 - val_acc: 0.3281\n",
      "Epoch 29/100\n",
      "20/20 [==============================] - 113s 6s/step - loss: 0.3790 - acc: 0.8660 - val_loss: 2.7954 - val_acc: 0.3164\n",
      "Epoch 30/100\n",
      "20/20 [==============================] - 108s 5s/step - loss: 0.3437 - acc: 0.8879 - val_loss: 3.5503 - val_acc: 0.2539\n",
      "Epoch 31/100\n",
      "20/20 [==============================] - 114s 6s/step - loss: 0.3398 - acc: 0.8930 - val_loss: 2.6730 - val_acc: 0.3438\n",
      "Epoch 32/100\n",
      "20/20 [==============================] - 108s 5s/step - loss: 0.3662 - acc: 0.8863 - val_loss: 3.0062 - val_acc: 0.3242\n",
      "Epoch 33/100\n",
      "19/20 [===========================>..] - ETA: 5s - loss: 0.3005 - acc: 0.9042 Epoch 33/100\n",
      "20/20 [==============================] - 114s 6s/step - loss: 0.3005 - acc: 0.9059 - val_loss: 2.8972 - val_acc: 0.3555\n",
      "Epoch 34/100\n",
      "20/20 [==============================] - 112s 6s/step - loss: 0.3165 - acc: 0.9012 - val_loss: 1.2507 - val_acc: 0.6719\n",
      "Epoch 35/100\n",
      "20/20 [==============================] - 116s 6s/step - loss: 0.2706 - acc: 0.9211 - val_loss: 1.4765 - val_acc: 0.6172\n",
      "Epoch 36/100\n",
      "20/20 [==============================] - 116s 6s/step - loss: 0.2347 - acc: 0.9328 - val_loss: 0.9943 - val_acc: 0.7227\n",
      "Epoch 37/100\n",
      "20/20 [==============================] - 114s 6s/step - loss: 0.2396 - acc: 0.9246 - val_loss: 0.6722 - val_acc: 0.8281\n",
      "Epoch 38/100\n",
      "20/20 [==============================] - 109s 5s/step - loss: 0.2362 - acc: 0.9258 - val_loss: 0.4438 - val_acc: 0.8750\n",
      "Epoch 39/100\n",
      "20/20 [==============================] - 109s 5s/step - loss: 0.2045 - acc: 0.9430 - val_loss: 0.5575 - val_acc: 0.8477\n",
      "Epoch 40/100\n",
      "20/20 [==============================] - 111s 6s/step - loss: 0.1893 - acc: 0.9488 - val_loss: 0.6138 - val_acc: 0.8203\n",
      "Epoch 41/100\n",
      "20/20 [==============================] - 111s 6s/step - loss: 0.1708 - acc: 0.9551 - val_loss: 0.6055 - val_acc: 0.8203\n",
      "Epoch 42/100\n",
      "20/20 [==============================] - 109s 5s/step - loss: 0.1673 - acc: 0.9543 - val_loss: 0.4045 - val_acc: 0.8945\n",
      "Epoch 43/100\n",
      "20/20 [==============================] - 109s 5s/step - loss: 0.1595 - acc: 0.9539 - val_loss: 0.9310 - val_acc: 0.7305\n",
      "Epoch 44/100\n",
      "20/20 [==============================] - 108s 5s/step - loss: 0.1621 - acc: 0.9543 - val_loss: 0.9199 - val_acc: 0.6797\n",
      "Epoch 45/100\n",
      "20/20 [==============================] - 108s 5s/step - loss: 0.1563 - acc: 0.9598 - val_loss: 0.6501 - val_acc: 0.8125\n",
      "Epoch 46/100\n",
      "20/20 [==============================] - 115s 6s/step - loss: 0.1466 - acc: 0.9637 - val_loss: 0.5920 - val_acc: 0.8750\n",
      "Epoch 47/100\n",
      "20/20 [==============================] - 113s 6s/step - loss: 0.1357 - acc: 0.9633 - val_loss: 1.1193 - val_acc: 0.7227\n",
      "Epoch 48/100\n",
      "20/20 [==============================] - 108s 5s/step - loss: 0.1263 - acc: 0.9699 - val_loss: 1.4263 - val_acc: 0.6875\n",
      "Epoch 49/100\n",
      "20/20 [==============================] - 112s 6s/step - loss: 0.1136 - acc: 0.9742 - val_loss: 1.8238 - val_acc: 0.6484\n",
      "Epoch 50/100\n",
      "20/20 [==============================] - 111s 6s/step - loss: 0.1114 - acc: 0.9727 - val_loss: 0.6512 - val_acc: 0.8281\n",
      "Epoch 51/100\n",
      "20/20 [==============================] - 111s 6s/step - loss: 0.1065 - acc: 0.9742 - val_loss: 1.8358 - val_acc: 0.5156\n",
      "Epoch 52/100\n",
      "20/20 [==============================] - 111s 6s/step - loss: 0.0885 - acc: 0.9770 - val_loss: 1.9739 - val_acc: 0.5820\n",
      "Epoch 53/100\n",
      "20/20 [==============================] - 108s 5s/step - loss: 0.0787 - acc: 0.9855 - val_loss: 3.6999 - val_acc: 0.4258\n",
      "Epoch 54/100\n",
      "20/20 [==============================] - 116s 6s/step - loss: 0.0956 - acc: 0.9754 - val_loss: 1.5129 - val_acc: 0.7109\n",
      "Epoch 55/100\n",
      "20/20 [==============================] - 108s 5s/step - loss: 0.0864 - acc: 0.9793 - val_loss: 0.5416 - val_acc: 0.8516\n",
      "Epoch 56/100\n",
      "20/20 [==============================] - 110s 6s/step - loss: 0.0864 - acc: 0.9762 - val_loss: 0.4830 - val_acc: 0.8945\n",
      "Epoch 57/100\n",
      "20/20 [==============================] - 116s 6s/step - loss: 0.0817 - acc: 0.9785 - val_loss: 0.5819 - val_acc: 0.8750\n",
      "Epoch 58/100\n",
      "20/20 [==============================] - 114s 6s/step - loss: 0.0925 - acc: 0.9777 - val_loss: 0.7436 - val_acc: 0.8164\n",
      "Epoch 59/100\n",
      "20/20 [==============================] - 109s 5s/step - loss: 0.0704 - acc: 0.9844 - val_loss: 0.3700 - val_acc: 0.9023\n",
      "Epoch 60/100\n",
      "20/20 [==============================] - 115s 6s/step - loss: 0.0591 - acc: 0.9875 - val_loss: 0.4750 - val_acc: 0.8906\n",
      "Epoch 61/100\n",
      "20/20 [==============================] - 110s 6s/step - loss: 0.0627 - acc: 0.9875 - val_loss: 0.4433 - val_acc: 0.9180\n",
      "Epoch 62/100\n",
      "20/20 [==============================] - 118s 6s/step - loss: 0.0562 - acc: 0.9875 - val_loss: 0.6302 - val_acc: 0.8711\n",
      "Epoch 63/100\n",
      "20/20 [==============================] - 109s 5s/step - loss: 0.0739 - acc: 0.9828 - val_loss: 1.3184 - val_acc: 0.7148\n",
      "Epoch 64/100\n",
      "20/20 [==============================] - 115s 6s/step - loss: 0.0810 - acc: 0.9777 - val_loss: 0.8042 - val_acc: 0.8320\n",
      "Epoch 65/100\n",
      "20/20 [==============================] - 112s 6s/step - loss: 0.0768 - acc: 0.9801 - val_loss: 1.2488 - val_acc: 0.6953\n",
      "Epoch 66/100\n",
      "20/20 [==============================] - 111s 6s/step - loss: 0.0689 - acc: 0.9812 - val_loss: 1.8675 - val_acc: 0.6562\n",
      "Epoch 67/100\n",
      "20/20 [==============================] - 109s 5s/step - loss: 0.0544 - acc: 0.9875 - val_loss: 0.3630 - val_acc: 0.9062\n",
      "Epoch 68/100\n",
      "20/20 [==============================] - 114s 6s/step - loss: 0.0544 - acc: 0.9867 - val_loss: 0.4871 - val_acc: 0.8945\n",
      "Epoch 69/100\n",
      "20/20 [==============================] - 113s 6s/step - loss: 0.0500 - acc: 0.9906 - val_loss: 0.4434 - val_acc: 0.9180\n",
      "Epoch 70/100\n",
      "20/20 [==============================] - 112s 6s/step - loss: 0.0462 - acc: 0.9891 - val_loss: 0.8654 - val_acc: 0.8711\n",
      "Epoch 71/100\n",
      "20/20 [==============================] - 112s 6s/step - loss: 0.0878 - acc: 0.9773 - val_loss: 1.0683 - val_acc: 0.7891\n",
      "Epoch 72/100\n",
      "20/20 [==============================] - 111s 6s/step - loss: 0.0588 - acc: 0.9859 - val_loss: 1.7684 - val_acc: 0.6836\n",
      "Epoch 73/100\n",
      "20/20 [==============================] - 109s 5s/step - loss: 0.0443 - acc: 0.9879 - val_loss: 1.3554 - val_acc: 0.7695\n",
      "Epoch 74/100\n",
      "20/20 [==============================] - 109s 5s/step - loss: 0.0385 - acc: 0.9918 - val_loss: 0.5014 - val_acc: 0.8867\n",
      "Epoch 75/100\n",
      "20/20 [==============================] - 109s 5s/step - loss: 0.0467 - acc: 0.9910 - val_loss: 0.8578 - val_acc: 0.8047\n",
      "Epoch 76/100\n",
      "20/20 [==============================] - 116s 6s/step - loss: 0.0355 - acc: 0.9906 - val_loss: 0.6258 - val_acc: 0.8984\n",
      "Epoch 77/100\n",
      "20/20 [==============================] - 110s 5s/step - loss: 0.0490 - acc: 0.9906 - val_loss: 0.4343 - val_acc: 0.8789\n",
      "Epoch 78/100\n",
      "20/20 [==============================] - 113s 6s/step - loss: 0.0329 - acc: 0.9914 - val_loss: 0.4929 - val_acc: 0.9062\n",
      "Epoch 79/100\n",
      "20/20 [==============================] - 118s 6s/step - loss: 0.0424 - acc: 0.9887 - val_loss: 0.6633 - val_acc: 0.8555\n",
      "Epoch 80/100\n",
      "20/20 [==============================] - 112s 6s/step - loss: 0.0484 - acc: 0.9871 - val_loss: 0.6470 - val_acc: 0.8477\n",
      "Epoch 81/100\n",
      "20/20 [==============================] - 109s 5s/step - loss: 0.0522 - acc: 0.9867 - val_loss: 0.9576 - val_acc: 0.8203\n",
      "Epoch 82/100\n",
      "20/20 [==============================] - 109s 5s/step - loss: 0.0534 - acc: 0.9859 - val_loss: 1.8123 - val_acc: 0.7070\n",
      "Epoch 83/100\n",
      "20/20 [==============================] - 111s 6s/step - loss: 0.0756 - acc: 0.9809 - val_loss: 0.6652 - val_acc: 0.8828\n",
      "Epoch 84/100\n",
      "20/20 [==============================] - 110s 5s/step - loss: 0.0565 - acc: 0.9820 - val_loss: 0.8387 - val_acc: 0.8047\n",
      "Epoch 85/100\n",
      "20/20 [==============================] - 108s 5s/step - loss: 0.0434 - acc: 0.9875 - val_loss: 1.1043 - val_acc: 0.7539\n",
      "Epoch 86/100\n",
      "20/20 [==============================] - 119s 6s/step - loss: 0.0210 - acc: 0.9961 - val_loss: 0.6388 - val_acc: 0.8555\n",
      "Epoch 87/100\n",
      "20/20 [==============================] - 109s 5s/step - loss: 0.0308 - acc: 0.9937 - val_loss: 0.4424 - val_acc: 0.9141\n",
      "Epoch 88/100\n",
      " 2/20 [==>...........................] - ETA: 8:30 - loss: 0.0190 - acc: 0.9961 "
     ]
    },
    {
     "name": "stderr",
     "output_type": "stream",
     "text": [
      "/home/tu_khan_zainab/miniconda3/lib/python3.6/site-packages/keras/callbacks.py:122: UserWarning: Method on_batch_end() is slow compared to the batch update (0.495012). Check your callbacks.\n",
      "  % delta_t_median)\n",
      "/home/tu_khan_zainab/miniconda3/lib/python3.6/site-packages/keras/callbacks.py:122: UserWarning: Method on_batch_end() is slow compared to the batch update (0.248043). Check your callbacks.\n",
      "  % delta_t_median)\n"
     ]
    },
    {
     "name": "stdout",
     "output_type": "stream",
     "text": [
      "20/20 [==============================] - 113s 6s/step - loss: 0.0237 - acc: 0.9953 - val_loss: 0.4246 - val_acc: 0.9180\n",
      "Epoch 89/100\n",
      "19/20 [===========================>..] - ETA: 5s - loss: 0.0200 - acc: 0.9959 Epoch 89/100\n",
      "20/20 [==============================] - 110s 6s/step - loss: 0.0196 - acc: 0.9961 - val_loss: 0.3876 - val_acc: 0.9258\n",
      "Epoch 90/100\n",
      "20/20 [==============================] - 111s 6s/step - loss: 0.0345 - acc: 0.9895 - val_loss: 0.6575 - val_acc: 0.8906\n",
      "Epoch 91/100\n",
      "20/20 [==============================] - 112s 6s/step - loss: 0.0469 - acc: 0.9863 - val_loss: 0.5240 - val_acc: 0.9062\n",
      "Epoch 92/100\n",
      "20/20 [==============================] - 110s 6s/step - loss: 0.0404 - acc: 0.9902 - val_loss: 0.5940 - val_acc: 0.8242\n",
      "Epoch 93/100\n",
      "20/20 [==============================] - 110s 5s/step - loss: 0.0277 - acc: 0.9945 - val_loss: 0.4360 - val_acc: 0.9102\n",
      "Epoch 94/100\n",
      "20/20 [==============================] - 110s 5s/step - loss: 0.0154 - acc: 0.9973 - val_loss: 0.4263 - val_acc: 0.9258\n",
      "Epoch 95/100\n",
      "20/20 [==============================] - 116s 6s/step - loss: 0.0264 - acc: 0.9937 - val_loss: 0.3617 - val_acc: 0.9375\n",
      "Epoch 96/100\n",
      "20/20 [==============================] - 110s 6s/step - loss: 0.0246 - acc: 0.9949 - val_loss: 0.5102 - val_acc: 0.8828\n",
      "Epoch 97/100\n",
      "20/20 [==============================] - 109s 5s/step - loss: 0.0195 - acc: 0.9961 - val_loss: 0.4421 - val_acc: 0.9180\n",
      "Epoch 98/100\n",
      "20/20 [==============================] - 110s 5s/step - loss: 0.0268 - acc: 0.9941 - val_loss: 0.5148 - val_acc: 0.8906\n",
      "Epoch 99/100\n",
      "20/20 [==============================] - 111s 6s/step - loss: 0.0169 - acc: 0.9973 - val_loss: 0.3747 - val_acc: 0.9180\n",
      "Epoch 100/100\n",
      "20/20 [==============================] - 110s 6s/step - loss: 0.0129 - acc: 0.9980 - val_loss: 0.5217 - val_acc: 0.9141\n"
     ]
    }
   ],
   "source": [
    "# Train model on dataset\n",
    "historySTFT = parallel_model.fit_generator(generator=training_generator, epochs=100,\n",
    "                    validation_data=validation_generator,\n",
    "                    use_multiprocessing=True,\n",
    "                    workers=16)"
   ]
  },
  {
   "cell_type": "code",
   "execution_count": 24,
   "metadata": {},
   "outputs": [],
   "source": [
    "y_test = []\n",
    "y_pred = []\n",
    "for i in range(len(validation_generator)):\n",
    "    x_test, y_test_ = validation_generator[i]\n",
    "    y_pred_ = parallel_model.predict(x_test)\n",
    "    y_test.append(y_test_.argmax(axis=1))\n",
    "    y_pred.append(y_pred_.argmax(axis=1))\n",
    "y_test = np.concatenate(y_test)\n",
    "y_pred = np.concatenate(y_pred)"
   ]
  },
  {
   "cell_type": "code",
   "execution_count": 25,
   "metadata": {},
   "outputs": [
    {
     "data": {
      "image/png": "[encoded data removed]",
      "text/plain": [
       "<Figure size 432x288 with 2 Axes>"
      ]
     },
     "metadata": {
      "needs_background": "light"
     },
     "output_type": "display_data"
    }
   ],
   "source": [
    "np.set_printoptions(precision=2)\n",
    "\n",
    "# Plot normalized confusion matrix\n",
    "plot_confusion_matrix(y_test, y_pred, classes=classes,\n",
    "                      title='Normalized confusion matrix - STFT CNN-LSTM Piano')\n",
    "\n",
    "plt.show()"
   ]
  },
  {
   "cell_type": "code",
   "execution_count": 27,
   "metadata": {},
   "outputs": [
    {
     "data": {
      "image/png": "[encoded data removed]",
      "text/plain": [
       "<Figure size 432x288 with 1 Axes>"
      ]
     },
     "metadata": {
      "needs_background": "light"
     },
     "output_type": "display_data"
    }
   ],
   "source": [
    "# Plot training & validation accuracy values\n",
    "plt.plot(historySTFT.history['acc'])\n",
    "plt.plot(historySTFT.history['val_acc'])\n",
    "plt.title('Model accuracy - STFT Piano')\n",
    "plt.ylabel('Accuracy')\n",
    "plt.xlabel('Epoch')\n",
    "plt.legend(['Train', 'Test'], loc='upper left')\n",
    "plt.show()"
   ]
  },
  {
   "cell_type": "code",
   "execution_count": 28,
   "metadata": {},
   "outputs": [
    {
     "data": {
      "image/png": "[encoded data removed]",
      "text/plain": [
       "<Figure size 432x288 with 1 Axes>"
      ]
     },
     "metadata": {
      "needs_background": "light"
     },
     "output_type": "display_data"
    }
   ],
   "source": [
    "# Plot training & validation accuracy values\n",
    "plt.plot(historySTFT.history['loss'])\n",
    "plt.plot(historySTFT.history['val_loss'])\n",
    "plt.title('Model loss - STFT Piano')\n",
    "plt.ylabel('Loss')\n",
    "plt.xlabel('Epoch')\n",
    "plt.legend(['Train', 'Test'], loc='upper left')\n",
    "plt.show()"
   ]
  },
  {
   "cell_type": "code",
   "execution_count": 29,
   "metadata": {},
   "outputs": [],
   "source": [
    "y_test = []\n",
    "y_pred = []\n",
    "for i in range(len(testing_generator)):\n",
    "    x_test, y_test_ = testing_generator[i]\n",
    "    y_pred_ = parallel_model.predict(x_test)\n",
    "    y_test.append(y_test_.argmax(axis=1))\n",
    "    y_pred.append(y_pred_.argmax(axis=1))\n",
    "y_test = np.concatenate(y_test)\n",
    "y_pred = np.concatenate(y_pred)"
   ]
  },
  {
   "cell_type": "code",
   "execution_count": 31,
   "metadata": {},
   "outputs": [],
   "source": [
    "from sklearn.metrics import accuracy_score, classification_report"
   ]
  },
  {
   "cell_type": "code",
   "execution_count": 32,
   "metadata": {},
   "outputs": [
    {
     "data": {
      "text/plain": [
       "0.94921875"
      ]
     },
     "execution_count": 32,
     "metadata": {},
     "output_type": "execute_result"
    }
   ],
   "source": [
    "accuracy_score(y_test,y_pred)"
   ]
  },
  {
   "cell_type": "code",
   "execution_count": 33,
   "metadata": {},
   "outputs": [
    {
     "name": "stdout",
     "output_type": "stream",
     "text": [
      "              precision    recall  f1-score   support\n",
      "\n",
      "      Mozart       1.00      1.00      1.00         6\n",
      "      Brahms       0.93      0.93      0.93        15\n",
      "       Faure       1.00      0.92      0.96        12\n",
      "   Beethoven       0.96      0.97      0.96       156\n",
      "        Bach       0.82      1.00      0.90        14\n",
      "    Schubert       0.94      0.89      0.91        53\n",
      "\n",
      "   micro avg       0.95      0.95      0.95       256\n",
      "   macro avg       0.94      0.95      0.95       256\n",
      "weighted avg       0.95      0.95      0.95       256\n",
      "\n"
     ]
    }
   ],
   "source": [
    "print(classification_report(y_test,y_pred,target_names=[classes[i] for i in unique_labels(y_test, y_pred)]))"
   ]
  },
  {
   "cell_type": "code",
   "execution_count": 34,
   "metadata": {},
   "outputs": [],
   "source": [
    "parallel_model.save('stft_cnn_lstm.hd5')"
   ]
  },
  {
   "cell_type": "markdown",
   "metadata": {},
   "source": [
    "Last model - full image"
   ]
  },
  {
   "cell_type": "code",
   "execution_count": 35,
   "metadata": {},
   "outputs": [],
   "source": [
    "# Parameters\n",
    "params = {'dim': (1723,233),\n",
    "          'batch_size': 64,\n",
    "          'n_classes': num_classes,\n",
    "          'n_channels': 1,\n",
    "          'shuffle': True}\n",
    "\n",
    "\n",
    "\n",
    "# Generators\n",
    "training_generator = DataGenerator(partition['train'], labels, **params)\n",
    "validation_generator = DataGenerator(partition['validation'], labels, **params)\n",
    "testing_generator = DataGenerator(partition['test'], labels, **params)"
   ]
  },
  {
   "cell_type": "code",
   "execution_count": 36,
   "metadata": {},
   "outputs": [],
   "source": [
    "# Design model\n",
    "\n",
    "with tf.device('/cpu:0'):\n",
    "    model = Sequential()\n",
    "\n",
    "    model.add(Conv2D(16, (16, 8), input_shape = (1723, 233, 1), activation='relu'))\n",
    "    model.add(MaxPooling2D(pool_size=(4, 2)))\n",
    "    model.add(BatchNormalization())\n",
    "    model.add(Dropout(.3))\n",
    "\n",
    "    model.add(Conv2D(16, (16, 8), activation='relu'))\n",
    "    model.add(MaxPooling2D(pool_size=(4, 2)))\n",
    "    model.add(BatchNormalization())\n",
    "    model.add(Dropout(.3))\n",
    "\n",
    "    model.add(Conv2D(16, (16, 8), activation='relu'))\n",
    "    model.add(MaxPooling2D(pool_size=(4, 2)))\n",
    "    model.add(BatchNormalization())\n",
    "\n",
    "    model.add(Reshape([22,23*16]))\n",
    "\n",
    "    model.add(LSTM(num_classes, return_sequences=True))\n",
    "    model.add(Dropout(.3))\n",
    "    model.add(LSTM(num_classes))\n",
    "\n",
    "    model.add(Dense(num_classes))\n",
    "    model.add(Dropout(.1))\n",
    "    model.add(Dense(num_classes, activation='softmax'))\n",
    "\n",
    "    model.compile(loss='categorical_crossentropy', metrics=['acc'], optimizer='adam')\n",
    "\n",
    "parallel_model = multi_gpu_model(model, gpus=4)\n",
    "parallel_model.compile(loss='categorical_crossentropy',\n",
    "                       metrics=['acc'], optimizer='adam')"
   ]
  },
  {
   "cell_type": "code",
   "execution_count": 37,
   "metadata": {},
   "outputs": [
    {
     "name": "stdout",
     "output_type": "stream",
     "text": [
      "Epoch 1/100\n",
      "40/40 [==============================] - 235s 6s/step - loss: 1.7847 - acc: 0.5383 - val_loss: 1.4804 - val_acc: 0.6000\n",
      "Epoch 2/100\n",
      "39/40 [============================>.] - ETA: 5s - loss: 1.3775 - acc: 0.5785 Epoch 2/100\n",
      "40/40 [==============================] - 213s 5s/step - loss: 1.3738 - acc: 0.5789 - val_loss: 1.9863 - val_acc: 0.2938\n",
      "Epoch 3/100\n",
      "40/40 [==============================] - 215s 5s/step - loss: 1.2400 - acc: 0.5852 - val_loss: 1.6092 - val_acc: 0.5125\n",
      "Epoch 4/100\n",
      "40/40 [==============================] - 218s 5s/step - loss: 1.1518 - acc: 0.5781 - val_loss: 1.9588 - val_acc: 0.2281\n",
      "Epoch 5/100\n",
      "40/40 [==============================] - 214s 5s/step - loss: 1.0952 - acc: 0.6082 - val_loss: 1.8480 - val_acc: 0.2656\n",
      "Epoch 6/100\n",
      "40/40 [==============================] - 219s 5s/step - loss: 1.0321 - acc: 0.6172 - val_loss: 1.1693 - val_acc: 0.5813\n",
      "Epoch 7/100\n",
      " 1/40 [..............................] - ETA: 42:34 - loss: 0.7635 - acc: 0.7500"
     ]
    },
    {
     "name": "stderr",
     "output_type": "stream",
     "text": [
      "/home/tu_khan_zainab/miniconda3/lib/python3.6/site-packages/keras/callbacks.py:122: UserWarning: Method on_batch_end() is slow compared to the batch update (0.476200). Check your callbacks.\n",
      "  % delta_t_median)\n"
     ]
    },
    {
     "name": "stdout",
     "output_type": "stream",
     "text": [
      "40/40 [==============================] - 214s 5s/step - loss: 0.9931 - acc: 0.6398 - val_loss: 1.7009 - val_acc: 0.3625\n",
      "Epoch 8/100\n",
      "40/40 [==============================] - 217s 5s/step - loss: 0.9566 - acc: 0.6516 - val_loss: 1.1349 - val_acc: 0.6312\n",
      "Epoch 9/100\n",
      " 4/40 [==>...........................] - ETA: 10:01 - loss: 0.8684 - acc: 0.6641"
     ]
    },
    {
     "name": "stderr",
     "output_type": "stream",
     "text": [
      "/home/tu_khan_zainab/miniconda3/lib/python3.6/site-packages/keras/callbacks.py:122: UserWarning: Method on_batch_end() is slow compared to the batch update (0.406261). Check your callbacks.\n",
      "  % delta_t_median)\n"
     ]
    },
    {
     "name": "stdout",
     "output_type": "stream",
     "text": [
      " 5/40 [==>...........................] - ETA: 7:55 - loss: 0.8930 - acc: 0.6469 "
     ]
    },
    {
     "name": "stderr",
     "output_type": "stream",
     "text": [
      "/home/tu_khan_zainab/miniconda3/lib/python3.6/site-packages/keras/callbacks.py:122: UserWarning: Method on_batch_end() is slow compared to the batch update (0.257189). Check your callbacks.\n",
      "  % delta_t_median)\n"
     ]
    },
    {
     "name": "stdout",
     "output_type": "stream",
     "text": [
      "40/40 [==============================] - 214s 5s/step - loss: 0.8824 - acc: 0.6664 - val_loss: 0.8617 - val_acc: 0.7000\n",
      "Epoch 10/100\n",
      "40/40 [==============================] - 216s 5s/step - loss: 0.8570 - acc: 0.6766 - val_loss: 1.4070 - val_acc: 0.4562\n",
      "Epoch 11/100\n",
      "40/40 [==============================] - 214s 5s/step - loss: 0.8394 - acc: 0.6773 - val_loss: 1.7044 - val_acc: 0.3406\n",
      "Epoch 12/100\n",
      "40/40 [==============================] - 219s 5s/step - loss: 0.8100 - acc: 0.6840 - val_loss: 1.1607 - val_acc: 0.6719\n",
      "Epoch 13/100\n",
      "40/40 [==============================] - 219s 5s/step - loss: 0.8100 - acc: 0.6840 - val_loss: 1.1607 - val_acc: 0.6719\n",
      "40/40 [==============================] - 220s 5s/step - loss: 0.7715 - acc: 0.6984 - val_loss: 0.6624 - val_acc: 0.7562\n",
      "Epoch 14/100\n",
      "40/40 [==============================] - 217s 5s/step - loss: 0.7146 - acc: 0.7219 - val_loss: 2.1748 - val_acc: 0.1531\n",
      "Epoch 15/100\n",
      "40/40 [==============================] - 213s 5s/step - loss: 0.7125 - acc: 0.7141 - val_loss: 2.1845 - val_acc: 0.1500\n",
      "Epoch 16/100\n",
      "40/40 [==============================] - 215s 5s/step - loss: 0.7062 - acc: 0.7168 - val_loss: 0.6862 - val_acc: 0.7281\n",
      "Epoch 17/100\n",
      "39/40 [============================>.] - ETA: 5s - loss: 0.6620 - acc: 0.7276 Epoch 17/100\n",
      "40/40 [==============================] - 219s 5s/step - loss: 0.6665 - acc: 0.7250 - val_loss: 0.7384 - val_acc: 0.7125\n",
      "Epoch 18/100\n",
      "39/40 [============================>.] - ETA: 5s - loss: 0.6609 - acc: 0.7232 Epoch 18/100\n",
      "40/40 [==============================] - 214s 5s/step - loss: 0.6626 - acc: 0.7227 - val_loss: 1.2726 - val_acc: 0.6719\n",
      "Epoch 19/100\n",
      "40/40 [==============================] - 216s 5s/step - loss: 0.6265 - acc: 0.7375 - val_loss: 1.2850 - val_acc: 0.5062\n",
      "Epoch 20/100\n",
      "40/40 [==============================] - 216s 5s/step - loss: 0.6020 - acc: 0.7289 - val_loss: 2.5302 - val_acc: 0.1156\n",
      "Epoch 21/100\n",
      "40/40 [==============================] - 218s 5s/step - loss: 0.5649 - acc: 0.7543 - val_loss: 1.0178 - val_acc: 0.6062\n",
      "Epoch 22/100\n",
      "39/40 [============================>.] - ETA: 5s - loss: 0.5090 - acc: 0.7853 Epoch 22/100\n",
      "40/40 [==============================] - 214s 5s/step - loss: 0.5097 - acc: 0.7863 - val_loss: 0.5425 - val_acc: 0.7875\n",
      "Epoch 23/100\n",
      " 3/40 [=>............................] - ETA: 13:34 - loss: 0.4194 - acc: 0.8438"
     ]
    },
    {
     "name": "stderr",
     "output_type": "stream",
     "text": [
      "/home/tu_khan_zainab/miniconda3/lib/python3.6/site-packages/keras/callbacks.py:122: UserWarning: Method on_batch_end() is slow compared to the batch update (0.307635). Check your callbacks.\n",
      "  % delta_t_median)\n"
     ]
    },
    {
     "name": "stdout",
     "output_type": "stream",
     "text": [
      "40/40 [==============================] - 215s 5s/step - loss: 0.4919 - acc: 0.7855 - val_loss: 0.7780 - val_acc: 0.6687\n",
      "Epoch 24/100\n",
      "40/40 [==============================] - 216s 5s/step - loss: 0.4723 - acc: 0.8082 - val_loss: 0.5014 - val_acc: 0.7531\n",
      "Epoch 25/100\n",
      " 1/40 [..............................] - ETA: 45:00 - loss: 0.5644 - acc: 0.7188"
     ]
    },
    {
     "name": "stderr",
     "output_type": "stream",
     "text": [
      "/home/tu_khan_zainab/miniconda3/lib/python3.6/site-packages/keras/callbacks.py:122: UserWarning: Method on_batch_end() is slow compared to the batch update (0.477774). Check your callbacks.\n",
      "  % delta_t_median)\n"
     ]
    },
    {
     "name": "stdout",
     "output_type": "stream",
     "text": [
      " 3/40 [=>............................] - ETA: 14:34 - loss: 0.4618 - acc: 0.8073"
     ]
    },
    {
     "name": "stderr",
     "output_type": "stream",
     "text": [
      "/home/tu_khan_zainab/miniconda3/lib/python3.6/site-packages/keras/callbacks.py:122: UserWarning: Method on_batch_end() is slow compared to the batch update (0.371026). Check your callbacks.\n",
      "  % delta_t_median)\n"
     ]
    },
    {
     "name": "stdout",
     "output_type": "stream",
     "text": [
      "40/40 [==============================] - 219s 5s/step - loss: 0.4200 - acc: 0.8406 - val_loss: 1.2781 - val_acc: 0.5125\n",
      "Epoch 26/100\n",
      "39/40 [============================>.] - ETA: 5s - loss: 0.4115 - acc: 0.8626 Epoch 26/100\n",
      "40/40 [==============================] - 221s 6s/step - loss: 0.4113 - acc: 0.8625 - val_loss: 2.0260 - val_acc: 0.2719\n",
      "Epoch 27/100\n",
      "40/40 [==============================] - 217s 5s/step - loss: 0.3836 - acc: 0.8668 - val_loss: 0.5176 - val_acc: 0.8438\n",
      "Epoch 28/100\n",
      "40/40 [==============================] - 220s 5s/step - loss: 0.3593 - acc: 0.8789 - val_loss: 2.9728 - val_acc: 0.0906\n",
      "Epoch 29/100\n",
      "40/40 [==============================] - 219s 5s/step - loss: 0.3433 - acc: 0.8930 - val_loss: 1.1102 - val_acc: 0.6969\n",
      "Epoch 30/100\n",
      "40/40 [==============================] - 218s 5s/step - loss: 0.3220 - acc: 0.8957 - val_loss: 0.9037 - val_acc: 0.6813\n",
      "Epoch 31/100\n",
      "40/40 [==============================] - 211s 5s/step - loss: 0.2910 - acc: 0.8973 - val_loss: 0.4195 - val_acc: 0.8875\n",
      "Epoch 32/100\n",
      "39/40 [============================>.] - ETA: 5s - loss: 0.2690 - acc: 0.9159 \n",
      "40/40 [==============================] - 221s 6s/step - loss: 0.2651 - acc: 0.9176 - val_loss: 0.4499 - val_acc: 0.8531\n",
      "Epoch 33/100\n",
      "39/40 [============================>.] - ETA: 5s - loss: 0.2468 - acc: 0.9211 40/40 [==============================] - 221s 6s/step - loss: 0.2651 - acc: 0.9176 - val_loss: 0.4499 - val_acc: 0.8531\n",
      "40/40 [==============================] - 214s 5s/step - loss: 0.2457 - acc: 0.9219 - val_loss: 1.2109 - val_acc: 0.7594\n",
      "Epoch 34/100\n",
      "39/40 [============================>.] - ETA: 5s - loss: 0.2206 - acc: 0.9259 Epoch 34/100\n",
      "40/40 [==============================] - 217s 5s/step - loss: 0.2182 - acc: 0.9266 - val_loss: 0.3445 - val_acc: 0.9031\n",
      "Epoch 35/100\n",
      "40/40 [==============================] - 217s 5s/step - loss: 0.1822 - acc: 0.9469 - val_loss: 0.7846 - val_acc: 0.7500\n",
      "Epoch 36/100\n",
      "40/40 [==============================] - 213s 5s/step - loss: 0.1489 - acc: 0.9566 - val_loss: 1.0276 - val_acc: 0.7031\n",
      "Epoch 37/100\n",
      "40/40 [==============================] - 220s 6s/step - loss: 0.1373 - acc: 0.9605 - val_loss: 1.5474 - val_acc: 0.6219\n",
      "Epoch 38/100\n",
      "40/40 [==============================] - 214s 5s/step - loss: 0.1363 - acc: 0.9613 - val_loss: 0.8419 - val_acc: 0.7875\n",
      "Epoch 39/100\n",
      "39/40 [============================>.] - ETA: 5s - loss: 0.1426 - acc: 0.9607 Epoch 39/100\n",
      "40/40 [==============================] - 217s 5s/step - loss: 0.1427 - acc: 0.9605 - val_loss: 0.8976 - val_acc: 0.7875\n",
      "Epoch 40/100\n",
      "40/40 [==============================] - 216s 5s/step - loss: 0.1210 - acc: 0.9629 - val_loss: 0.7006 - val_acc: 0.8438\n",
      "Epoch 41/100\n",
      "40/40 [==============================] - 213s 5s/step - loss: 0.1434 - acc: 0.9621 - val_loss: 0.9746 - val_acc: 0.7719\n",
      "Epoch 42/100\n",
      "40/40 [==============================] - 215s 5s/step - loss: 0.1165 - acc: 0.9660 - val_loss: 0.5938 - val_acc: 0.8844\n",
      "Epoch 43/100\n",
      "40/40 [==============================] - 216s 5s/step - loss: 0.1120 - acc: 0.9703 - val_loss: 0.5322 - val_acc: 0.8906\n",
      "Epoch 44/100\n",
      "40/40 [==============================] - 217s 5s/step - loss: 0.0893 - acc: 0.9758 - val_loss: 0.7305 - val_acc: 0.8344\n",
      "Epoch 45/100\n",
      " 1/40 [..............................] - ETA: 42:27 - loss: 0.0347 - acc: 1.0000"
     ]
    },
    {
     "name": "stderr",
     "output_type": "stream",
     "text": [
      "/home/tu_khan_zainab/miniconda3/lib/python3.6/site-packages/keras/callbacks.py:122: UserWarning: Method on_batch_end() is slow compared to the batch update (0.819862). Check your callbacks.\n",
      "  % delta_t_median)\n"
     ]
    },
    {
     "name": "stdout",
     "output_type": "stream",
     "text": [
      " 2/40 [>.............................] - ETA: 21:49 - loss: 0.0416 - acc: 0.9922"
     ]
    },
    {
     "name": "stderr",
     "output_type": "stream",
     "text": [
      "/home/tu_khan_zainab/miniconda3/lib/python3.6/site-packages/keras/callbacks.py:122: UserWarning: Method on_batch_end() is slow compared to the batch update (0.410569). Check your callbacks.\n",
      "  % delta_t_median)\n"
     ]
    },
    {
     "name": "stdout",
     "output_type": "stream",
     "text": [
      "39/40 [============================>.] - ETA: 5s - loss: 0.0783 - acc: 0.9832 Epoch 45/100\n",
      "40/40 [==============================] - 218s 5s/step - loss: 0.0773 - acc: 0.9836 - val_loss: 0.5668 - val_acc: 0.8719\n",
      "Epoch 46/100\n",
      "40/40 [==============================] - 213s 5s/step - loss: 0.1004 - acc: 0.9750 - val_loss: 0.4587 - val_acc: 0.8781\n",
      "Epoch 47/100\n",
      "39/40 [============================>.] - ETA: 5s - loss: 0.1190 - acc: 0.9643 Epoch 47/100\n",
      "40/40 [==============================] - 218s 5s/step - loss: 0.1184 - acc: 0.9641 - val_loss: 2.9405 - val_acc: 0.2281\n",
      "Epoch 48/100\n",
      "40/40 [==============================] - 216s 5s/step - loss: 0.1167 - acc: 0.9676 - val_loss: 0.4320 - val_acc: 0.9125\n",
      "Epoch 49/100\n",
      "39/40 [============================>.] - ETA: 5s - loss: 0.0705 - acc: 0.9816 Epoch 49/100\n",
      "40/40 [==============================] - 221s 6s/step - loss: 0.0734 - acc: 0.9813 - val_loss: 0.7717 - val_acc: 0.8438\n",
      "Epoch 50/100\n",
      " 1/40 [..............................] - ETA: 42:58 - loss: 0.1517 - acc: 0.9844"
     ]
    },
    {
     "name": "stderr",
     "output_type": "stream",
     "text": [
      "/home/tu_khan_zainab/miniconda3/lib/python3.6/site-packages/keras/callbacks.py:122: UserWarning: Method on_batch_end() is slow compared to the batch update (0.453435). Check your callbacks.\n",
      "  % delta_t_median)\n"
     ]
    },
    {
     "name": "stdout",
     "output_type": "stream",
     "text": [
      "40/40 [==============================] - 218s 5s/step - loss: 0.1077 - acc: 0.9703 - val_loss: 0.4652 - val_acc: 0.8938\n",
      "Epoch 51/100\n",
      "40/40 [==============================] - 214s 5s/step - loss: 0.0683 - acc: 0.9816 - val_loss: 0.3375 - val_acc: 0.9094\n",
      "Epoch 52/100\n",
      "40/40 [==============================] - 220s 6s/step - loss: 0.0956 - acc: 0.9766 - val_loss: 2.2830 - val_acc: 0.3750\n",
      "Epoch 53/100\n",
      "40/40 [==============================] - 219s 5s/step - loss: 0.1064 - acc: 0.9711 - val_loss: 1.5238 - val_acc: 0.7688\n",
      "Epoch 54/100\n",
      "40/40 [==============================] - 220s 6s/step - loss: 0.0808 - acc: 0.9746 - val_loss: 0.5943 - val_acc: 0.8781\n",
      "Epoch 55/100\n",
      "40/40 [==============================] - 216s 5s/step - loss: 0.0717 - acc: 0.9844 - val_loss: 0.7854 - val_acc: 0.8562\n",
      "Epoch 56/100\n",
      "39/40 [============================>.] - ETA: 5s - loss: 0.0500 - acc: 0.9884 Epoch 56/100\n",
      "40/40 [==============================] - 212s 5s/step - loss: 0.0493 - acc: 0.9887 - val_loss: 0.3643 - val_acc: 0.9156\n",
      "Epoch 57/100\n",
      "40/40 [==============================] - 217s 5s/step - loss: 0.0565 - acc: 0.9871 - val_loss: 2.0523 - val_acc: 0.5750\n",
      "Epoch 58/100\n",
      "40/40 [==============================] - 215s 5s/step - loss: 0.0702 - acc: 0.9813 - val_loss: 0.8188 - val_acc: 0.8156\n",
      "Epoch 59/100\n",
      "40/40 [==============================] - 220s 5s/step - loss: 0.0583 - acc: 0.9855 - val_loss: 1.3347 - val_acc: 0.8063\n",
      "Epoch 60/100\n",
      " 1/40 [..............................] - ETA: 41:36 - loss: 0.0197 - acc: 1.0000"
     ]
    },
    {
     "name": "stderr",
     "output_type": "stream",
     "text": [
      "/home/tu_khan_zainab/miniconda3/lib/python3.6/site-packages/keras/callbacks.py:122: UserWarning: Method on_batch_end() is slow compared to the batch update (0.469416). Check your callbacks.\n",
      "  % delta_t_median)\n"
     ]
    },
    {
     "name": "stdout",
     "output_type": "stream",
     "text": [
      " 2/40 [>.............................] - ETA: 20:33 - loss: 0.0182 - acc: 1.0000"
     ]
    },
    {
     "name": "stderr",
     "output_type": "stream",
     "text": [
      "/home/tu_khan_zainab/miniconda3/lib/python3.6/site-packages/keras/callbacks.py:122: UserWarning: Method on_batch_end() is slow compared to the batch update (0.483320). Check your callbacks.\n",
      "  % delta_t_median)\n"
     ]
    },
    {
     "name": "stdout",
     "output_type": "stream",
     "text": [
      "40/40 [==============================] - 214s 5s/step - loss: 0.0356 - acc: 0.9906 - val_loss: 0.8068 - val_acc: 0.8531\n",
      "Epoch 61/100\n",
      "39/40 [============================>.] - ETA: 5s - loss: 0.0307 - acc: 0.9940 Epoch 61/100\n",
      "40/40 [==============================] - 213s 5s/step - loss: 0.0320 - acc: 0.9937 - val_loss: 0.4623 - val_acc: 0.9094\n",
      "Epoch 62/100\n",
      "39/40 [============================>.] - ETA: 5s - loss: 0.0421 - acc: 0.9900 Epoch 62/100\n",
      "40/40 [==============================] - 220s 5s/step - loss: 0.0418 - acc: 0.9898 - val_loss: 0.5055 - val_acc: 0.8688\n",
      "Epoch 63/100\n",
      "39/40 [============================>.] - ETA: 5s - loss: 0.0453 - acc: 0.9868 Epoch 63/100\n",
      "40/40 [==============================] - 214s 5s/step - loss: 0.0444 - acc: 0.9871 - val_loss: 0.5033 - val_acc: 0.9031\n",
      "Epoch 64/100\n",
      "40/40 [==============================] - 214s 5s/step - loss: 0.0498 - acc: 0.9883 - val_loss: 0.3634 - val_acc: 0.9000\n",
      "Epoch 65/100\n",
      "40/40 [==============================] - 220s 5s/step - loss: 0.0486 - acc: 0.9867 - val_loss: 1.1556 - val_acc: 0.8406\n",
      "Epoch 66/100\n",
      "39/40 [============================>.] - ETA: 5s - loss: 0.0423 - acc: 0.9888 Epoch 66/100\n",
      "40/40 [==============================] - 212s 5s/step - loss: 0.0436 - acc: 0.9883 - val_loss: 0.6068 - val_acc: 0.8906\n",
      "Epoch 67/100\n",
      " 1/40 [..............................] - ETA: 44:35 - loss: 0.0562 - acc: 0.9844"
     ]
    },
    {
     "name": "stderr",
     "output_type": "stream",
     "text": [
      "/home/tu_khan_zainab/miniconda3/lib/python3.6/site-packages/keras/callbacks.py:122: UserWarning: Method on_batch_end() is slow compared to the batch update (0.653170). Check your callbacks.\n",
      "  % delta_t_median)\n"
     ]
    },
    {
     "name": "stdout",
     "output_type": "stream",
     "text": [
      "40/40 [==============================] - 220s 5s/step - loss: 0.0673 - acc: 0.9813 - val_loss: 3.2391 - val_acc: 0.3250\n",
      "Epoch 68/100\n",
      "40/40 [==============================] - 218s 5s/step - loss: 0.0639 - acc: 0.9801 - val_loss: 0.5135 - val_acc: 0.8875\n",
      "Epoch 69/100\n",
      "40/40 [==============================] - 213s 5s/step - loss: 0.0666 - acc: 0.9809 - val_loss: 0.4151 - val_acc: 0.9031\n",
      "Epoch 70/100\n",
      "40/40 [==============================] - 215s 5s/step - loss: 0.0547 - acc: 0.9859 - val_loss: 0.6549 - val_acc: 0.8844\n",
      "Epoch 71/100\n",
      "40/40 [==============================] - 215s 5s/step - loss: 0.0313 - acc: 0.9922 - val_loss: 1.4311 - val_acc: 0.6844\n",
      "Epoch 72/100\n",
      "40/40 [==============================] - 213s 5s/step - loss: 0.0474 - acc: 0.9875 - val_loss: 2.4215 - val_acc: 0.5563\n",
      "Epoch 73/100\n",
      "40/40 [==============================] - 214s 5s/step - loss: 0.0709 - acc: 0.9832 - val_loss: 0.5916 - val_acc: 0.8781\n",
      "Epoch 74/100\n",
      "40/40 [==============================] - 215s 5s/step - loss: 0.0611 - acc: 0.9859 - val_loss: 0.5125 - val_acc: 0.8688\n",
      "Epoch 75/100\n",
      " 1/40 [..............................] - ETA: 43:21 - loss: 0.0136 - acc: 1.0000"
     ]
    },
    {
     "name": "stderr",
     "output_type": "stream",
     "text": [
      "/home/tu_khan_zainab/miniconda3/lib/python3.6/site-packages/keras/callbacks.py:122: UserWarning: Method on_batch_end() is slow compared to the batch update (0.503298). Check your callbacks.\n",
      "  % delta_t_median)\n"
     ]
    },
    {
     "name": "stdout",
     "output_type": "stream",
     "text": [
      " 2/40 [>.............................] - ETA: 21:22 - loss: 0.0146 - acc: 1.0000"
     ]
    },
    {
     "name": "stderr",
     "output_type": "stream",
     "text": [
      "/home/tu_khan_zainab/miniconda3/lib/python3.6/site-packages/keras/callbacks.py:122: UserWarning: Method on_batch_end() is slow compared to the batch update (0.518124). Check your callbacks.\n",
      "  % delta_t_median)\n"
     ]
    },
    {
     "name": "stdout",
     "output_type": "stream",
     "text": [
      "40/40 [==============================] - 217s 5s/step - loss: 0.0346 - acc: 0.9922 - val_loss: 1.9054 - val_acc: 0.6188\n",
      "Epoch 76/100\n",
      "39/40 [============================>.] - ETA: 5s - loss: 0.0312 - acc: 0.9920 Epoch 76/100\n",
      "40/40 [==============================] - 213s 5s/step - loss: 0.0312 - acc: 0.9918 - val_loss: 1.6806 - val_acc: 0.6219\n",
      "Epoch 77/100\n",
      "39/40 [============================>.] - ETA: 5s - loss: 0.0324 - acc: 0.9896 Epoch 77/100\n",
      "40/40 [==============================] - 215s 5s/step - loss: 0.0317 - acc: 0.9898 - val_loss: 0.4092 - val_acc: 0.9156\n",
      "Epoch 78/100\n",
      "40/40 [==============================] - 212s 5s/step - loss: 0.0269 - acc: 0.9945 - val_loss: 0.4801 - val_acc: 0.8969\n",
      "Epoch 79/100\n",
      "39/40 [============================>.] - ETA: 5s - loss: 0.0353 - acc: 0.9924 Epoch 79/100\n",
      "40/40 [==============================] - 215s 5s/step - loss: 0.0361 - acc: 0.9922 - val_loss: 0.7955 - val_acc: 0.8625\n",
      "Epoch 80/100\n",
      "40/40 [==============================] - 215s 5s/step - loss: 0.0278 - acc: 0.9934 - val_loss: 0.9029 - val_acc: 0.8625\n",
      "Epoch 81/100\n",
      "39/40 [============================>.] - ETA: 5s - loss: 0.0289 - acc: 0.9936 Epoch 81/100\n",
      "40/40 [==============================] - 214s 5s/step - loss: 0.0292 - acc: 0.9930 - val_loss: 0.7448 - val_acc: 0.8625\n",
      "Epoch 82/100\n",
      "40/40 [==============================] - 214s 5s/step - loss: 0.0446 - acc: 0.9883 - val_loss: 0.4378 - val_acc: 0.9000\n",
      "Epoch 83/100\n",
      "40/40 [==============================] - 214s 5s/step - loss: 0.0614 - acc: 0.9848 - val_loss: 0.7870 - val_acc: 0.8562\n",
      "Epoch 84/100\n",
      "40/40 [==============================] - 211s 5s/step - loss: 0.0445 - acc: 0.9879 - val_loss: 1.6258 - val_acc: 0.6562\n",
      "Epoch 85/100\n",
      " 2/40 [>.............................] - ETA: 21:17 - loss: 0.0250 - acc: 0.9922"
     ]
    },
    {
     "name": "stderr",
     "output_type": "stream",
     "text": [
      "/home/tu_khan_zainab/miniconda3/lib/python3.6/site-packages/keras/callbacks.py:122: UserWarning: Method on_batch_end() is slow compared to the batch update (0.563860). Check your callbacks.\n",
      "  % delta_t_median)\n"
     ]
    },
    {
     "name": "stdout",
     "output_type": "stream",
     "text": [
      "39/40 [============================>.] - ETA: 5s - loss: 0.0396 - acc: 0.9876 Epoch 85/100\n",
      "40/40 [==============================] - 218s 5s/step - loss: 0.0394 - acc: 0.9875 - val_loss: 0.5177 - val_acc: 0.8938\n",
      "Epoch 86/100\n",
      "40/40 [==============================] - 213s 5s/step - loss: 0.0143 - acc: 0.9973 - val_loss: 0.5746 - val_acc: 0.8938\n",
      "Epoch 87/100\n",
      "39/40 [============================>.] - ETA: 5s - loss: 0.0317 - acc: 0.9932 Epoch 87/100\n",
      "40/40 [==============================] - 216s 5s/step - loss: 0.0317 - acc: 0.9930 - val_loss: 1.7710 - val_acc: 0.6375\n",
      "Epoch 88/100\n",
      " 3/40 [=>............................] - ETA: 13:33 - loss: 0.0138 - acc: 1.0000"
     ]
    },
    {
     "name": "stderr",
     "output_type": "stream",
     "text": [
      "/home/tu_khan_zainab/miniconda3/lib/python3.6/site-packages/keras/callbacks.py:122: UserWarning: Method on_batch_end() is slow compared to the batch update (0.380159). Check your callbacks.\n",
      "  % delta_t_median)\n"
     ]
    },
    {
     "name": "stdout",
     "output_type": "stream",
     "text": [
      "39/40 [============================>.] - ETA: 5s - loss: 0.0374 - acc: 0.9904 Epoch 88/100\n",
      "40/40 [==============================] - 213s 5s/step - loss: 0.0367 - acc: 0.9906 - val_loss: 1.3623 - val_acc: 0.7188\n",
      "Epoch 89/100\n",
      "40/40 [==============================] - 218s 5s/step - loss: 0.0278 - acc: 0.9926 - val_loss: 0.5895 - val_acc: 0.8719\n",
      "Epoch 90/100\n",
      " 1/40 [..............................] - ETA: 42:34 - loss: 0.0063 - acc: 1.0000"
     ]
    },
    {
     "name": "stderr",
     "output_type": "stream",
     "text": [
      "/home/tu_khan_zainab/miniconda3/lib/python3.6/site-packages/keras/callbacks.py:122: UserWarning: Method on_batch_end() is slow compared to the batch update (0.542701). Check your callbacks.\n",
      "  % delta_t_median)\n"
     ]
    },
    {
     "name": "stdout",
     "output_type": "stream",
     "text": [
      " 2/40 [>.............................] - ETA: 21:00 - loss: 0.0097 - acc: 1.0000"
     ]
    },
    {
     "name": "stderr",
     "output_type": "stream",
     "text": [
      "/home/tu_khan_zainab/miniconda3/lib/python3.6/site-packages/keras/callbacks.py:122: UserWarning: Method on_batch_end() is slow compared to the batch update (0.271925). Check your callbacks.\n",
      "  % delta_t_median)\n"
     ]
    },
    {
     "name": "stdout",
     "output_type": "stream",
     "text": [
      "39/40 [============================>.] - ETA: 5s - loss: 0.0265 - acc: 0.9928 Epoch 90/100\n",
      "40/40 [==============================] - 215s 5s/step - loss: 0.0261 - acc: 0.9930 - val_loss: 1.5570 - val_acc: 0.6781\n",
      "Epoch 91/100\n",
      " 1/40 [..............................] - ETA: 44:10 - loss: 0.0070 - acc: 1.0000"
     ]
    },
    {
     "name": "stderr",
     "output_type": "stream",
     "text": [
      "/home/tu_khan_zainab/miniconda3/lib/python3.6/site-packages/keras/callbacks.py:122: UserWarning: Method on_batch_end() is slow compared to the batch update (0.474190). Check your callbacks.\n",
      "  % delta_t_median)\n"
     ]
    },
    {
     "name": "stdout",
     "output_type": "stream",
     "text": [
      " 3/40 [=>............................] - ETA: 14:18 - loss: 0.0138 - acc: 0.9948"
     ]
    },
    {
     "name": "stderr",
     "output_type": "stream",
     "text": [
      "/home/tu_khan_zainab/miniconda3/lib/python3.6/site-packages/keras/callbacks.py:122: UserWarning: Method on_batch_end() is slow compared to the batch update (0.353399). Check your callbacks.\n",
      "  % delta_t_median)\n"
     ]
    },
    {
     "name": "stdout",
     "output_type": "stream",
     "text": [
      "40/40 [==============================] - 216s 5s/step - loss: 0.0286 - acc: 0.9922 - val_loss: 0.5225 - val_acc: 0.9062\n",
      "Epoch 92/100\n",
      "40/40 [==============================] - 216s 5s/step - loss: 0.0202 - acc: 0.9937 - val_loss: 0.4678 - val_acc: 0.9000\n",
      "Epoch 93/100\n",
      "39/40 [============================>.] - ETA: 5s - loss: 0.0173 - acc: 0.9948 Epoch 93/100\n",
      "40/40 [==============================] - 217s 5s/step - loss: 0.0171 - acc: 0.9949 - val_loss: 0.5461 - val_acc: 0.8938\n",
      "Epoch 94/100\n",
      "40/40 [==============================] - 214s 5s/step - loss: 0.0256 - acc: 0.9930 - val_loss: 0.7953 - val_acc: 0.8750\n",
      "Epoch 95/100\n",
      "40/40 [==============================] - 216s 5s/step - loss: 0.0188 - acc: 0.9949 - val_loss: 0.4067 - val_acc: 0.9156\n",
      "Epoch 96/100\n",
      "40/40 [==============================] - 213s 5s/step - loss: 0.0234 - acc: 0.9937 - val_loss: 2.6393 - val_acc: 0.4750\n",
      "Epoch 97/100\n",
      "40/40 [==============================] - 216s 5s/step - loss: 0.0244 - acc: 0.9941 - val_loss: 0.5263 - val_acc: 0.9000\n",
      "Epoch 98/100\n",
      "40/40 [==============================] - 216s 5s/step - loss: 0.0167 - acc: 0.9961 - val_loss: 0.5240 - val_acc: 0.9125\n",
      "Epoch 99/100\n",
      "40/40 [==============================] - 215s 5s/step - loss: 0.0166 - acc: 0.9957 - val_loss: 0.5756 - val_acc: 0.9156\n",
      "Epoch 100/100\n",
      "40/40 [==============================] - 216s 5s/step - loss: 0.0168 - acc: 0.9973 - val_loss: 2.3850 - val_acc: 0.5969\n"
     ]
    }
   ],
   "source": [
    "# Train model on dataset\n",
    "historyMIX = parallel_model.fit_generator(generator=training_generator, epochs=100,\n",
    "                    validation_data=validation_generator,\n",
    "                    use_multiprocessing=True,\n",
    "                    workers=16)"
   ]
  },
  {
   "cell_type": "markdown",
   "metadata": {},
   "source": [
    "The code below was not run with the model after training for 100 epochs. Instead it is the stale results from only 30 epochs of training. Clearly the prints show that this was a promising model, but the validation accuracy dropped just at the last epoch. This phenomenon is frustrating and must be explored further."
   ]
  },
  {
   "cell_type": "code",
   "execution_count": 76,
   "metadata": {},
   "outputs": [],
   "source": [
    "y_test = []\n",
    "y_pred = []\n",
    "for i in range(len(validation_generator)):\n",
    "    x_test, y_test_ = validation_generator[i]\n",
    "    y_pred_ = parallel_model.predict(x_test)\n",
    "    y_test.append(y_test_.argmax(axis=1))\n",
    "    y_pred.append(y_pred_.argmax(axis=1))\n",
    "y_test = np.concatenate(y_test)\n",
    "y_pred = np.concatenate(y_pred)"
   ]
  },
  {
   "cell_type": "code",
   "execution_count": 77,
   "metadata": {},
   "outputs": [
    {
     "data": {
      "image/png": "[encoded data removed]",
      "text/plain": [
       "<Figure size 432x288 with 2 Axes>"
      ]
     },
     "metadata": {
      "needs_background": "light"
     },
     "output_type": "display_data"
    }
   ],
   "source": [
    "np.set_printoptions(precision=2)\n",
    "\n",
    "# Plot normalized confusion matrix\n",
    "plot_confusion_matrix(y_test, y_pred, classes=classes,\n",
    "                      title='Normalized confusion matrix - STFT + MFC Spectrum CNN-LSTM Piano')\n",
    "\n",
    "plt.show()"
   ]
  },
  {
   "cell_type": "code",
   "execution_count": 81,
   "metadata": {},
   "outputs": [],
   "source": [
    "y_test = []\n",
    "y_pred = []\n",
    "for i in range(len(testing_generator)):\n",
    "    x_test, y_test_ = testing_generator[i]\n",
    "    y_pred_ = parallel_model.predict(x_test)\n",
    "    y_test.append(y_test_.argmax(axis=1))\n",
    "    y_pred.append(y_pred_.argmax(axis=1))\n",
    "y_test = np.concatenate(y_test)\n",
    "y_pred = np.concatenate(y_pred)"
   ]
  },
  {
   "cell_type": "code",
   "execution_count": 82,
   "metadata": {},
   "outputs": [
    {
     "data": {
      "image/png": "[encoded data removed]",
      "text/plain": [
       "<Figure size 432x288 with 2 Axes>"
      ]
     },
     "metadata": {
      "needs_background": "light"
     },
     "output_type": "display_data"
    }
   ],
   "source": [
    "np.set_printoptions(precision=2)\n",
    "\n",
    "# Plot normalized confusion matrix\n",
    "plot_confusion_matrix(y_test, y_pred, classes=classes,\n",
    "                      title='Normalized confusion matrix')\n",
    "\n",
    "plt.show()"
   ]
  },
  {
   "cell_type": "code",
   "execution_count": 94,
   "metadata": {},
   "outputs": [
    {
     "data": {
      "image/png": "[encoded data removed]",
      "text/plain": [
       "<Figure size 432x288 with 1 Axes>"
      ]
     },
     "metadata": {
      "needs_background": "light"
     },
     "output_type": "display_data"
    }
   ],
   "source": [
    "# Plot training & validation losses\n",
    "plt.plot(historyMIX.history['acc'])\n",
    "plt.plot(historyMIX.history['val_acc'])\n",
    "plt.title('Model accuracy  - MFC Spectrum & STFT')\n",
    "plt.ylabel('Loss')\n",
    "plt.xlabel('Epoch')\n",
    "plt.legend(['Train', 'Validation'], loc='upper left')\n",
    "plt.show()"
   ]
  },
  {
   "cell_type": "code",
   "execution_count": 95,
   "metadata": {},
   "outputs": [
    {
     "data": {
      "image/png": "[encoded data removed]",
      "text/plain": [
       "<Figure size 432x288 with 1 Axes>"
      ]
     },
     "metadata": {
      "needs_background": "light"
     },
     "output_type": "display_data"
    }
   ],
   "source": [
    "# Plot training & validation losses\n",
    "plt.plot(historyMIX.history['loss'])\n",
    "plt.plot(historyMIX.history['val_loss'])\n",
    "plt.title('Model loss  - MFC Spectrum & STFT')\n",
    "plt.ylabel('Loss')\n",
    "plt.xlabel('Epoch')\n",
    "plt.legend(['Train', 'Validation'], loc='upper left')\n",
    "plt.show()"
   ]
  },
  {
   "cell_type": "code",
   "execution_count": 85,
   "metadata": {},
   "outputs": [
    {
     "data": {
      "text/plain": [
       "0.809375"
      ]
     },
     "execution_count": 85,
     "metadata": {},
     "output_type": "execute_result"
    }
   ],
   "source": [
    "accuracy_score(y_pred,y_test)"
   ]
  },
  {
   "cell_type": "code",
   "execution_count": 80,
   "metadata": {},
   "outputs": [
    {
     "data": {
      "text/plain": [
       "0.790625"
      ]
     },
     "execution_count": 80,
     "metadata": {},
     "output_type": "execute_result"
    }
   ],
   "source": [
    "parallel_model.save('mix_cnn_lstm.hd5')"
   ]
  },
  {
   "cell_type": "code",
   "execution_count": null,
   "metadata": {},
   "outputs": [],
   "source": []
  },
  {
   "cell_type": "code",
   "execution_count": null,
   "metadata": {},
   "outputs": [],
   "source": []
  }
 ],
 "metadata": {
  "kernelspec": {
   "display_name": "Python 3",
   "language": "python",
   "name": "python3"
  },
  "language_info": {
   "codemirror_mode": {
    "name": "ipython",
    "version": 3
   },
   "file_extension": ".py",
   "mimetype": "text/x-python",
   "name": "python",
   "nbconvert_exporter": "python",
   "pygments_lexer": "ipython3",
   "version": "3.6.8"
  }
 },
 "nbformat": 4,
 "nbformat_minor": 2
}
